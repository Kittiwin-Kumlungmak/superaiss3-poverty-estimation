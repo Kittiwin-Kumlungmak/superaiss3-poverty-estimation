{
 "cells": [
  {
   "cell_type": "code",
   "execution_count": 1,
   "id": "b2578ff5-4e3e-4f66-a315-5c18e20176cc",
   "metadata": {},
   "outputs": [],
   "source": [
    "import pandas as pd\n",
    "import numpy as np"
   ]
  },
  {
   "cell_type": "code",
   "execution_count": 11,
   "id": "abc485ff-b9ef-4a99-b4ba-458c9efd461c",
   "metadata": {},
   "outputs": [
    {
     "data": {
      "text/html": [
       "<div>\n",
       "<style scoped>\n",
       "    .dataframe tbody tr th:only-of-type {\n",
       "        vertical-align: middle;\n",
       "    }\n",
       "\n",
       "    .dataframe tbody tr th {\n",
       "        vertical-align: top;\n",
       "    }\n",
       "\n",
       "    .dataframe thead th {\n",
       "        text-align: right;\n",
       "    }\n",
       "</style>\n",
       "<table border=\"1\" class=\"dataframe\">\n",
       "  <thead>\n",
       "    <tr style=\"text-align: right;\">\n",
       "      <th></th>\n",
       "      <th>tumbol_ID</th>\n",
       "      <th>amenity</th>\n",
       "      <th>amenity_type</th>\n",
       "    </tr>\n",
       "  </thead>\n",
       "  <tbody>\n",
       "    <tr>\n",
       "      <th>0</th>\n",
       "      <td>500513.0</td>\n",
       "      <td>baby_hatch</td>\n",
       "      <td>0</td>\n",
       "    </tr>\n",
       "    <tr>\n",
       "      <th>1</th>\n",
       "      <td>461102.0</td>\n",
       "      <td>clinic</td>\n",
       "      <td>1</td>\n",
       "    </tr>\n",
       "    <tr>\n",
       "      <th>2</th>\n",
       "      <td>401612.0</td>\n",
       "      <td>clinic</td>\n",
       "      <td>1</td>\n",
       "    </tr>\n",
       "    <tr>\n",
       "      <th>3</th>\n",
       "      <td>361402.0</td>\n",
       "      <td>clinic</td>\n",
       "      <td>1</td>\n",
       "    </tr>\n",
       "    <tr>\n",
       "      <th>4</th>\n",
       "      <td>710105.0</td>\n",
       "      <td>clinic</td>\n",
       "      <td>1</td>\n",
       "    </tr>\n",
       "    <tr>\n",
       "      <th>...</th>\n",
       "      <td>...</td>\n",
       "      <td>...</td>\n",
       "      <td>...</td>\n",
       "    </tr>\n",
       "    <tr>\n",
       "      <th>3201</th>\n",
       "      <td>500106.0</td>\n",
       "      <td>veterinary</td>\n",
       "      <td>7</td>\n",
       "    </tr>\n",
       "    <tr>\n",
       "      <th>3202</th>\n",
       "      <td>830106.0</td>\n",
       "      <td>veterinary</td>\n",
       "      <td>7</td>\n",
       "    </tr>\n",
       "    <tr>\n",
       "      <th>3203</th>\n",
       "      <td>102705.0</td>\n",
       "      <td>veterinary</td>\n",
       "      <td>7</td>\n",
       "    </tr>\n",
       "    <tr>\n",
       "      <th>3204</th>\n",
       "      <td>830201.0</td>\n",
       "      <td>veterinary</td>\n",
       "      <td>7</td>\n",
       "    </tr>\n",
       "    <tr>\n",
       "      <th>3205</th>\n",
       "      <td>103802.0</td>\n",
       "      <td>veterinary</td>\n",
       "      <td>7</td>\n",
       "    </tr>\n",
       "  </tbody>\n",
       "</table>\n",
       "<p>3206 rows × 3 columns</p>\n",
       "</div>"
      ],
      "text/plain": [
       "      tumbol_ID     amenity  amenity_type\n",
       "0      500513.0  baby_hatch             0\n",
       "1      461102.0      clinic             1\n",
       "2      401612.0      clinic             1\n",
       "3      361402.0      clinic             1\n",
       "4      710105.0      clinic             1\n",
       "...         ...         ...           ...\n",
       "3201   500106.0  veterinary             7\n",
       "3202   830106.0  veterinary             7\n",
       "3203   102705.0  veterinary             7\n",
       "3204   830201.0  veterinary             7\n",
       "3205   103802.0  veterinary             7\n",
       "\n",
       "[3206 rows x 3 columns]"
      ]
     },
     "execution_count": 11,
     "metadata": {},
     "output_type": "execute_result"
    }
   ],
   "source": [
    "amenity_df = pd.read_csv('data/amenity.csv')[['tumbol_ID', 'amenity']]\n",
    "amenity_df.amenity = amenity_df.amenity.astype('category')\n",
    "amenity_df['amenity_type'] = amenity_df.amenity.cat.codes\n",
    "amenity_df"
   ]
  },
  {
   "cell_type": "code",
   "execution_count": 4,
   "id": "289ebeab-9815-4add-a319-5837ec0544fb",
   "metadata": {},
   "outputs": [
    {
     "data": {
      "text/plain": [
       "{0: 'baby_hatch',\n",
       " 1: 'clinic',\n",
       " 2: 'dentist',\n",
       " 3: 'doctors',\n",
       " 4: 'hospital',\n",
       " 5: 'nursing_home',\n",
       " 6: 'social_facility',\n",
       " 7: 'veterinary'}"
      ]
     },
     "execution_count": 4,
     "metadata": {},
     "output_type": "execute_result"
    }
   ],
   "source": [
    "amenity2code = dict(enumerate(amenity_df.amenity.cat.categories))\n",
    "amenity2code"
   ]
  },
  {
   "cell_type": "code",
   "execution_count": null,
   "id": "73144d0b-16c6-4faf-a90e-b169f70033e6",
   "metadata": {},
   "outputs": [],
   "source": [
    "from sklearn.preprocessing import OneHotEncoder\n",
    "\n",
    "ohe = OneHotEncoder()\n",
    "amenity_code = ohe.fit_transform(amenity_df.amenity_type.values.reshape(-1,1))\n",
    "amenity_code = pd.DataFrame(amenity_code.toarray())\n",
    "amenity_code.columns = list(amenity2code.values())\n",
    "# amenity_code.columns = [\n",
    "#     'region_BKK',\n",
    "#     'region_Central',\n",
    "#     'region_West',\n",
    "#     'region_East',\n",
    "#     'region_North_East',\n",
    "#     'region_North',\n",
    "#     'region_South']\n",
    "amenity_code"
   ]
  },
  {
   "cell_type": "code",
   "execution_count": null,
   "id": "cb5952d7-c8d7-4d74-bac8-97bc1d97b0c0",
   "metadata": {},
   "outputs": [],
   "source": []
  }
 ],
 "metadata": {
  "kernelspec": {
   "display_name": "Python 3 (ipykernel)",
   "language": "python",
   "name": "python3"
  },
  "language_info": {
   "codemirror_mode": {
    "name": "ipython",
    "version": 3
   },
   "file_extension": ".py",
   "mimetype": "text/x-python",
   "name": "python",
   "nbconvert_exporter": "python",
   "pygments_lexer": "ipython3",
   "version": "3.10.6"
  }
 },
 "nbformat": 4,
 "nbformat_minor": 5
}

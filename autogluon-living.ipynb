{
 "cells": [
  {
   "cell_type": "code",
   "execution_count": 1,
   "id": "d73f5bfc-1f81-4869-9f21-b07d2c757b6f",
   "metadata": {},
   "outputs": [
    {
     "name": "stdout",
     "output_type": "stream",
     "text": [
      "\u001b[31mERROR: Ignored the following versions that require a different python version: 0.1.0 Requires-Python >=3.6, <3.9; 0.1.0b20210207 Requires-Python >=3.6, <3.8; 0.1.0b20210208 Requires-Python >=3.6, <3.8; 0.1.0b20210209 Requires-Python >=3.6, <3.8; 0.1.0b20210210 Requires-Python >=3.6, <3.8; 0.1.0b20210211 Requires-Python >=3.6, <3.8; 0.1.0b20210212 Requires-Python >=3.6, <3.8; 0.1.0b20210213 Requires-Python >=3.6, <3.8; 0.1.0b20210214 Requires-Python >=3.6, <3.8; 0.1.0b20210215 Requires-Python >=3.6, <3.8; 0.1.0b20210216 Requires-Python >=3.6, <3.8; 0.1.0b20210217 Requires-Python >=3.6, <3.8; 0.1.0b20210218 Requires-Python >=3.6, <3.8; 0.1.0b20210219 Requires-Python >=3.6, <3.8; 0.1.0b20210220 Requires-Python >=3.6, <3.8; 0.1.0b20210221 Requires-Python >=3.6, <3.8; 0.1.0b20210222 Requires-Python >=3.6, <3.8; 0.1.0b20210223 Requires-Python >=3.6, <3.8; 0.1.0b20210224 Requires-Python >=3.6, <3.8; 0.1.0b20210225 Requires-Python >=3.6, <3.9; 0.1.0b20210226 Requires-Python >=3.6, <3.9; 0.1.0b20210227 Requires-Python >=3.6, <3.9; 0.1.0b20210228 Requires-Python >=3.6, <3.9; 0.1.1b20210302 Requires-Python >=3.6, <3.9; 0.1.1b20210303 Requires-Python >=3.6, <3.9; 0.1.1b20210304 Requires-Python >=3.6, <3.9; 0.1.1b20210305 Requires-Python >=3.6, <3.9; 0.1.1b20210306 Requires-Python >=3.6, <3.9; 0.1.1b20210307 Requires-Python >=3.6, <3.9; 0.1.1b20210308 Requires-Python >=3.6, <3.9; 0.1.1b20210309 Requires-Python >=3.6, <3.9; 0.1.1b20210310 Requires-Python >=3.6, <3.9; 0.1.1b20210311 Requires-Python >=3.6, <3.9; 0.1.1b20210312 Requires-Python >=3.6, <3.9; 0.1.1b20210313 Requires-Python >=3.6, <3.9; 0.1.1b20210314 Requires-Python >=3.6, <3.9; 0.1.1b20210315 Requires-Python >=3.6, <3.9; 0.1.1b20210317 Requires-Python >=3.6, <3.9; 0.1.1b20210318 Requires-Python >=3.6, <3.9; 0.1.1b20210319 Requires-Python >=3.6, <3.9; 0.1.1b20210320 Requires-Python >=3.6, <3.9; 0.1.1b20210321 Requires-Python >=3.6, <3.9; 0.1.1b20210322 Requires-Python >=3.6, <3.9; 0.1.1b20210323 Requires-Python >=3.6, <3.9; 0.1.1b20210324 Requires-Python >=3.6, <3.9; 0.1.1b20210325 Requires-Python >=3.6, <3.9; 0.1.1b20210326 Requires-Python >=3.6, <3.9; 0.1.1b20210327 Requires-Python >=3.6, <3.9; 0.1.1b20210328 Requires-Python >=3.6, <3.9; 0.1.1b20210329 Requires-Python >=3.6, <3.9; 0.1.1b20210330 Requires-Python >=3.6, <3.9; 0.1.1b20210331 Requires-Python >=3.6, <3.9; 0.1.1b20210401 Requires-Python >=3.6, <3.9; 0.1.1b20210402 Requires-Python >=3.6, <3.9; 0.1.1b20210403 Requires-Python >=3.6, <3.9; 0.1.1b20210404 Requires-Python >=3.6, <3.9; 0.1.1b20210405 Requires-Python >=3.6, <3.9; 0.1.1b20210406 Requires-Python >=3.6, <3.9; 0.1.1b20210407 Requires-Python >=3.6, <3.9; 0.1.1b20210408 Requires-Python >=3.6, <3.9; 0.1.1b20210409 Requires-Python >=3.6, <3.9; 0.1.1b20210410 Requires-Python >=3.6, <3.9; 0.1.1b20210411 Requires-Python >=3.6, <3.9; 0.1.1b20210412 Requires-Python >=3.6, <3.9; 0.1.1b20210413 Requires-Python >=3.6, <3.9; 0.1.1b20210414 Requires-Python >=3.6, <3.9; 0.1.1b20210415 Requires-Python >=3.6, <3.9; 0.1.1b20210416 Requires-Python >=3.6, <3.9; 0.1.1b20210417 Requires-Python >=3.6, <3.9; 0.1.1b20210418 Requires-Python >=3.6, <3.9; 0.1.1b20210419 Requires-Python >=3.6, <3.9; 0.1.1b20210420 Requires-Python >=3.6, <3.9; 0.1.1b20210421 Requires-Python >=3.6, <3.9; 0.1.1b20210422 Requires-Python >=3.6, <3.9; 0.1.1b20210423 Requires-Python >=3.6, <3.9; 0.1.1b20210424 Requires-Python >=3.6, <3.9; 0.1.1b20210425 Requires-Python >=3.6, <3.9; 0.1.1b20210426 Requires-Python >=3.6, <3.9; 0.2.0 Requires-Python >=3.6, <3.9; 0.2.0b20210427 Requires-Python >=3.6, <3.9; 0.2.0b20210428 Requires-Python >=3.6, <3.9; 0.2.1b20210429 Requires-Python >=3.6, <3.9; 0.2.1b20210430 Requires-Python >=3.6, <3.9; 0.2.1b20210501 Requires-Python >=3.6, <3.9; 0.2.1b20210502 Requires-Python >=3.6, <3.9; 0.2.1b20210503 Requires-Python >=3.6, <3.9; 0.2.1b20210504 Requires-Python >=3.6, <3.9; 0.2.1b20210505 Requires-Python >=3.6, <3.9; 0.2.1b20210506 Requires-Python >=3.6, <3.9; 0.2.1b20210507 Requires-Python >=3.6, <3.9; 0.2.1b20210508 Requires-Python >=3.6, <3.9; 0.2.1b20210509 Requires-Python >=3.6, <3.9; 0.2.1b20210510 Requires-Python >=3.6, <3.9; 0.2.1b20210511 Requires-Python >=3.6, <3.9; 0.2.1b20210512 Requires-Python >=3.6, <3.9; 0.2.1b20210513 Requires-Python >=3.6, <3.9; 0.2.1b20210514 Requires-Python >=3.6, <3.9; 0.2.1b20210515 Requires-Python >=3.6, <3.9; 0.2.1b20210517 Requires-Python >=3.6, <3.9; 0.2.1b20210518 Requires-Python >=3.6, <3.9; 0.2.1b20210519 Requires-Python >=3.6, <3.9; 0.2.1b20210520 Requires-Python >=3.6, <3.9; 0.2.1b20210521 Requires-Python >=3.6, <3.9; 0.2.1b20210522 Requires-Python >=3.6, <3.9; 0.2.1b20210523 Requires-Python >=3.6, <3.9; 0.2.1b20210524 Requires-Python >=3.6, <3.9; 0.2.1b20210525 Requires-Python >=3.6, <3.9; 0.2.1b20210526 Requires-Python >=3.6, <3.9; 0.2.1b20210527 Requires-Python >=3.6, <3.9; 0.2.1b20210528 Requires-Python >=3.6, <3.9; 0.2.1b20210529 Requires-Python >=3.6, <3.9; 0.2.1b20210530 Requires-Python >=3.6, <3.9; 0.2.1b20210531 Requires-Python >=3.6, <3.9; 0.2.1b20210601 Requires-Python >=3.6, <3.9; 0.2.1b20210602 Requires-Python >=3.6, <3.9; 0.2.1b20210603 Requires-Python >=3.6, <3.9; 0.2.1b20210604 Requires-Python >=3.6, <3.9; 0.2.1b20210605 Requires-Python >=3.6, <3.9; 0.2.1b20210606 Requires-Python >=3.6, <3.9; 0.2.1b20210607 Requires-Python >=3.6, <3.9; 0.2.1b20210608 Requires-Python >=3.6, <3.9; 0.2.1b20210609 Requires-Python >=3.6, <3.9; 0.2.1b20210610 Requires-Python >=3.6, <3.9; 0.2.1b20210611 Requires-Python >=3.6, <3.9; 0.2.1b20210612 Requires-Python >=3.6, <3.9; 0.2.1b20210613 Requires-Python >=3.6, <3.9; 0.2.1b20210614 Requires-Python >=3.6, <3.9; 0.2.1b20210615 Requires-Python >=3.6, <3.9; 0.2.1b20210616 Requires-Python >=3.6, <3.9; 0.2.1b20210617 Requires-Python >=3.6, <3.9; 0.2.1b20210618 Requires-Python >=3.6, <3.9; 0.2.1b20210619 Requires-Python >=3.6, <3.9; 0.2.1b20210620 Requires-Python >=3.6, <3.9; 0.2.1b20210621 Requires-Python >=3.6, <3.9; 0.2.1b20210622 Requires-Python >=3.6, <3.9; 0.2.1b20210623 Requires-Python >=3.6, <3.9; 0.2.1b20210624 Requires-Python >=3.6, <3.9; 0.2.1b20210625 Requires-Python >=3.6, <3.9; 0.2.1b20210626 Requires-Python >=3.6, <3.9; 0.2.1b20210627 Requires-Python >=3.6, <3.9; 0.2.1b20210628 Requires-Python >=3.6, <3.9; 0.2.1b20210629 Requires-Python >=3.6, <3.9; 0.2.1b20210630 Requires-Python >=3.6, <3.9; 0.2.1b20210701 Requires-Python >=3.6, <3.9; 0.2.1b20210702 Requires-Python >=3.6, <3.9; 0.2.1b20210703 Requires-Python >=3.6, <3.9; 0.2.1b20210704 Requires-Python >=3.6, <3.9; 0.2.1b20210705 Requires-Python >=3.6, <3.9; 0.2.1b20210706 Requires-Python >=3.6, <3.9; 0.2.1b20210707 Requires-Python >=3.6, <3.9; 0.2.1b20210708 Requires-Python >=3.6, <3.9; 0.2.1b20210709 Requires-Python >=3.6, <3.9; 0.2.1b20210710 Requires-Python >=3.6, <3.9; 0.2.1b20210711 Requires-Python >=3.6, <3.9; 0.2.1b20210712 Requires-Python >=3.6, <3.9; 0.2.1b20210713 Requires-Python >=3.6, <3.9; 0.2.1b20210714 Requires-Python >=3.6, <3.9; 0.2.1b20210715 Requires-Python >=3.6, <3.9; 0.2.1b20210716 Requires-Python >=3.6, <3.9; 0.2.1b20210717 Requires-Python >=3.6, <3.9; 0.2.1b20210718 Requires-Python >=3.6, <3.9; 0.2.1b20210719 Requires-Python >=3.6, <3.9; 0.2.1b20210720 Requires-Python >=3.6, <3.9; 0.2.1b20210721 Requires-Python >=3.6, <3.9; 0.2.1b20210722 Requires-Python >=3.6, <3.9; 0.2.1b20210723 Requires-Python >=3.6, <3.9; 0.2.1b20210724 Requires-Python >=3.6, <3.9; 0.2.1b20210725 Requires-Python >=3.6, <3.9; 0.2.1b20210726 Requires-Python >=3.6, <3.9; 0.2.1b20210727 Requires-Python >=3.6, <3.9; 0.2.1b20210728 Requires-Python >=3.6, <3.9; 0.2.1b20210729 Requires-Python >=3.6, <3.9; 0.2.1b20210730 Requires-Python >=3.6, <3.9; 0.2.1b20210731 Requires-Python >=3.6, <3.9; 0.2.1b20210801 Requires-Python >=3.6, <3.9; 0.2.1b20210802 Requires-Python >=3.6, <3.9; 0.2.1b20210803 Requires-Python >=3.6, <3.9; 0.2.1b20210804 Requires-Python >=3.6, <3.9; 0.2.1b20210805 Requires-Python >=3.6, <3.9; 0.2.1b20210806 Requires-Python >=3.6, <3.9; 0.2.1b20210807 Requires-Python >=3.6, <3.9; 0.2.1b20210808 Requires-Python >=3.6, <3.9; 0.2.1b20210809 Requires-Python >=3.6, <3.9; 0.2.1b20210810 Requires-Python >=3.6, <3.9; 0.2.1b20210811 Requires-Python >=3.6, <3.9; 0.2.1b20210812 Requires-Python >=3.6, <3.9; 0.2.1b20210813 Requires-Python >=3.6, <3.9; 0.3.0 Requires-Python >=3.6, <3.9; 0.3.0b20210814 Requires-Python >=3.6, <3.9; 0.3.1 Requires-Python >=3.6, <3.9; 0.3.1b20210815 Requires-Python >=3.6, <3.9; 0.3.1b20210816 Requires-Python >=3.6, <3.9; 0.3.1b20210817 Requires-Python >=3.6, <3.9; 0.3.1b20210818 Requires-Python >=3.6, <3.9; 0.3.1b20210819 Requires-Python >=3.6, <3.9; 0.3.1b20210820 Requires-Python >=3.6, <3.9; 0.3.1b20210821 Requires-Python >=3.6, <3.9; 0.3.1b20210822 Requires-Python >=3.6, <3.9; 0.3.1b20210823 Requires-Python >=3.6, <3.9; 0.3.1b20210824 Requires-Python >=3.6, <3.9; 0.3.1b20210825 Requires-Python >=3.6, <3.9; 0.3.1b20210826 Requires-Python >=3.6, <3.9; 0.3.1b20210827 Requires-Python >=3.6, <3.9; 0.3.1b20210828 Requires-Python >=3.6, <3.9; 0.3.1b20210829 Requires-Python >=3.6, <3.9; 0.3.1b20210830 Requires-Python >=3.6, <3.9; 0.3.1b20210831 Requires-Python >=3.6, <3.9; 0.3.2b20210901 Requires-Python >=3.6, <3.9; 0.3.2b20210902 Requires-Python >=3.6, <3.9; 0.3.2b20210903 Requires-Python >=3.6, <3.9; 0.3.2b20210904 Requires-Python >=3.6, <3.9; 0.3.2b20210905 Requires-Python >=3.6, <3.9; 0.3.2b20210906 Requires-Python >=3.6, <3.9; 0.3.2b20210907 Requires-Python >=3.6, <3.9; 0.3.2b20210908 Requires-Python >=3.6, <3.9; 0.3.2b20210909 Requires-Python >=3.6, <3.9; 0.3.2b20210910 Requires-Python >=3.6, <3.9; 0.3.2b20210911 Requires-Python >=3.6, <3.9; 0.3.2b20210912 Requires-Python >=3.6, <3.9; 0.3.2b20210913 Requires-Python >=3.6, <3.9; 0.3.2b20210914 Requires-Python >=3.6, <3.9; 0.3.2b20210915 Requires-Python >=3.6, <3.9; 0.3.2b20210916 Requires-Python >=3.6, <3.9; 0.3.2b20210917 Requires-Python >=3.6, <3.9; 0.3.2b20210918 Requires-Python >=3.6, <3.9; 0.3.2b20210919 Requires-Python >=3.6, <3.9; 0.3.2b20210920 Requires-Python >=3.6, <3.9; 0.3.2b20210921 Requires-Python >=3.6, <3.9; 0.3.2b20210922 Requires-Python >=3.6, <3.9; 0.3.2b20210923 Requires-Python >=3.6, <3.9; 0.3.2b20210924 Requires-Python >=3.6, <3.9; 0.3.2b20210925 Requires-Python >=3.6, <3.9; 0.3.2b20210926 Requires-Python >=3.6, <3.9; 0.3.2b20210927 Requires-Python >=3.6, <3.9; 0.3.2b20210928 Requires-Python >=3.6, <3.9; 0.3.2b20210929 Requires-Python >=3.6, <3.9; 0.3.2b20210930 Requires-Python >=3.6, <3.9; 0.3.2b20211001 Requires-Python >=3.6, <3.9; 0.3.2b20211002 Requires-Python >=3.6, <3.9; 0.3.2b20211003 Requires-Python >=3.6, <3.9; 0.3.2b20211004 Requires-Python >=3.6, <3.9; 0.3.2b20211005 Requires-Python >=3.6, <3.9; 0.3.2b20211006 Requires-Python >=3.6, <3.9; 0.3.2b20211007 Requires-Python >=3.6, <3.9; 0.3.2b20211008 Requires-Python >=3.6, <3.9; 0.3.2b20211009 Requires-Python >=3.6, <3.9; 0.3.2b20211010 Requires-Python >=3.6, <3.9; 0.3.2b20211011 Requires-Python >=3.6, <3.9; 0.3.2b20211012 Requires-Python >=3.6, <3.9; 0.3.2b20211013 Requires-Python >=3.6, <3.9; 0.3.2b20211014 Requires-Python >=3.6, <3.9; 0.3.2b20211015 Requires-Python >=3.6, <3.9; 0.3.2b20211016 Requires-Python >=3.6, <3.9; 0.3.2b20211017 Requires-Python >=3.6, <3.9; 0.3.2b20211018 Requires-Python >=3.6, <3.9; 0.3.2b20211019 Requires-Python >=3.6, <3.9; 0.3.2b20211020 Requires-Python >=3.6, <3.10; 0.3.2b20211021 Requires-Python >=3.6, <3.10; 0.3.2b20211022 Requires-Python >=3.6, <3.10; 0.3.2b20211023 Requires-Python >=3.6, <3.10; 0.3.2b20211024 Requires-Python >=3.6, <3.10; 0.3.2b20211025 Requires-Python >=3.6, <3.10; 0.3.2b20211026 Requires-Python >=3.6, <3.10; 0.3.2b20211027 Requires-Python >=3.6, <3.10; 0.3.2b20211028 Requires-Python >=3.6, <3.10; 0.3.2b20211029 Requires-Python >=3.6, <3.10; 0.3.2b20211030 Requires-Python >=3.6, <3.10; 0.3.2b20211031 Requires-Python >=3.6, <3.10; 0.3.2b20211101 Requires-Python >=3.6, <3.10; 0.3.2b20211102 Requires-Python >=3.6, <3.10; 0.3.2b20211103 Requires-Python >=3.6, <3.10; 0.3.2b20211104 Requires-Python >=3.6, <3.10; 0.3.2b20211105 Requires-Python >=3.6, <3.10; 0.3.2b20211106 Requires-Python >=3.6, <3.10; 0.3.2b20211107 Requires-Python >=3.6, <3.10; 0.3.2b20211108 Requires-Python >=3.6, <3.10; 0.3.2b20211109 Requires-Python >=3.6, <3.10; 0.3.2b20211110 Requires-Python >=3.6, <3.10; 0.3.2b20211111 Requires-Python >=3.6, <3.10; 0.3.2b20211112 Requires-Python >=3.7, <3.10; 0.3.2b20211113 Requires-Python >=3.7, <3.10; 0.3.2b20211114 Requires-Python >=3.7, <3.10; 0.3.2b20211115 Requires-Python >=3.7, <3.10; 0.3.2b20211116 Requires-Python >=3.7, <3.10; 0.3.2b20211117 Requires-Python >=3.7, <3.10; 0.3.2b20211118 Requires-Python >=3.7, <3.10; 0.3.2b20211119 Requires-Python >=3.7, <3.10; 0.3.2b20211120 Requires-Python >=3.7, <3.10; 0.3.2b20211121 Requires-Python >=3.7, <3.10; 0.3.2b20211122 Requires-Python >=3.7, <3.10; 0.3.2b20211123 Requires-Python >=3.7, <3.10; 0.3.2b20211124 Requires-Python >=3.7, <3.10; 0.3.2b20211125 Requires-Python >=3.7, <3.10; 0.3.2b20211126 Requires-Python >=3.7, <3.10; 0.3.2b20211127 Requires-Python >=3.7, <3.10; 0.3.2b20211128 Requires-Python >=3.7, <3.10; 0.3.2b20211129 Requires-Python >=3.7, <3.10; 0.3.2b20211130 Requires-Python >=3.7, <3.10; 0.3.2b20211201 Requires-Python >=3.7, <3.10; 0.3.2b20211202 Requires-Python >=3.7, <3.10; 0.3.2b20211203 Requires-Python >=3.7, <3.10; 0.3.2b20211204 Requires-Python >=3.7, <3.10; 0.3.2b20211205 Requires-Python >=3.7, <3.10; 0.3.2b20211206 Requires-Python >=3.7, <3.10; 0.3.2b20211207 Requires-Python >=3.7, <3.10; 0.3.2b20211208 Requires-Python >=3.7, <3.10; 0.3.2b20211209 Requires-Python >=3.7, <3.10; 0.3.2b20211210 Requires-Python >=3.7, <3.10; 0.3.2b20211211 Requires-Python >=3.7, <3.10; 0.3.2b20211212 Requires-Python >=3.7, <3.10; 0.3.2b20211213 Requires-Python >=3.7, <3.10; 0.3.2b20211214 Requires-Python >=3.7, <3.10; 0.3.2b20211215 Requires-Python >=3.7, <3.10; 0.3.2b20211216 Requires-Python >=3.7, <3.10; 0.3.2b20211217 Requires-Python >=3.7, <3.10; 0.3.2b20211218 Requires-Python >=3.7, <3.10; 0.3.2b20211219 Requires-Python >=3.7, <3.10; 0.3.2b20211220 Requires-Python >=3.7, <3.10; 0.3.2b20211221 Requires-Python >=3.7, <3.10; 0.3.2b20211222 Requires-Python >=3.7, <3.10; 0.3.2b20211223 Requires-Python >=3.7, <3.10; 0.3.2b20211224 Requires-Python >=3.7, <3.10; 0.3.2b20211225 Requires-Python >=3.7, <3.10; 0.3.2b20211226 Requires-Python >=3.7, <3.10; 0.3.2b20211227 Requires-Python >=3.7, <3.10; 0.3.2b20211228 Requires-Python >=3.7, <3.10; 0.3.2b20211229 Requires-Python >=3.7, <3.10; 0.3.2b20211230 Requires-Python >=3.7, <3.10; 0.3.2b20211231 Requires-Python >=3.7, <3.10; 0.3.2b20220101 Requires-Python >=3.7, <3.10; 0.3.2b20220102 Requires-Python >=3.7, <3.10; 0.3.2b20220103 Requires-Python >=3.7, <3.10; 0.3.2b20220104 Requires-Python >=3.7, <3.10; 0.3.2b20220105 Requires-Python >=3.7, <3.10; 0.3.2b20220106 Requires-Python >=3.7, <3.10; 0.3.2b20220107 Requires-Python >=3.7, <3.10; 0.3.2b20220108 Requires-Python >=3.7, <3.10; 0.3.2b20220109 Requires-Python >=3.7, <3.10; 0.3.2b20220110 Requires-Python >=3.7, <3.10; 0.3.2b20220111 Requires-Python >=3.7, <3.10; 0.3.2b20220112 Requires-Python >=3.7, <3.10; 0.3.2b20220113 Requires-Python >=3.7, <3.10; 0.3.2b20220114 Requires-Python >=3.7, <3.10; 0.3.2b20220115 Requires-Python >=3.7, <3.10; 0.3.2b20220116 Requires-Python >=3.7, <3.10; 0.3.2b20220117 Requires-Python >=3.7, <3.10; 0.3.2b20220118 Requires-Python >=3.7, <3.10; 0.3.2b20220119 Requires-Python >=3.7, <3.10; 0.3.2b20220120 Requires-Python >=3.7, <3.10; 0.3.2b20220121 Requires-Python >=3.7, <3.10; 0.3.2b20220122 Requires-Python >=3.7, <3.10; 0.3.2b20220123 Requires-Python >=3.7, <3.10; 0.3.2b20220124 Requires-Python >=3.7, <3.10; 0.3.2b20220125 Requires-Python >=3.7, <3.10; 0.3.2b20220126 Requires-Python >=3.7, <3.10; 0.3.2b20220127 Requires-Python >=3.7, <3.10; 0.3.2b20220128 Requires-Python >=3.7, <3.10; 0.3.2b20220129 Requires-Python >=3.7, <3.10; 0.3.2b20220130 Requires-Python >=3.7, <3.10; 0.3.2b20220131 Requires-Python >=3.7, <3.10; 0.3.2b20220201 Requires-Python >=3.7, <3.10; 0.3.2b20220202 Requires-Python >=3.7, <3.10; 0.3.2b20220203 Requires-Python >=3.7, <3.10; 0.3.2b20220204 Requires-Python >=3.7, <3.10; 0.3.2b20220205 Requires-Python >=3.7, <3.10; 0.3.2b20220206 Requires-Python >=3.7, <3.10; 0.3.2b20220207 Requires-Python >=3.7, <3.10; 0.3.2b20220208 Requires-Python >=3.7, <3.10; 0.3.2b20220209 Requires-Python >=3.7, <3.10; 0.3.2b20220210 Requires-Python >=3.7, <3.10; 0.3.2b20220211 Requires-Python >=3.7, <3.10; 0.3.2b20220212 Requires-Python >=3.7, <3.10; 0.3.2b20220213 Requires-Python >=3.7, <3.10; 0.3.2b20220214 Requires-Python >=3.7, <3.10; 0.3.2b20220215 Requires-Python >=3.7, <3.10; 0.3.2b20220216 Requires-Python >=3.7, <3.10; 0.3.2b20220217 Requires-Python >=3.7, <3.10; 0.3.2b20220218 Requires-Python >=3.7, <3.10; 0.3.2b20220219 Requires-Python >=3.7, <3.10; 0.3.2b20220220 Requires-Python >=3.7, <3.10; 0.3.2b20220221 Requires-Python >=3.7, <3.10; 0.3.2b20220222 Requires-Python >=3.7, <3.10; 0.3.2b20220223 Requires-Python >=3.7, <3.10; 0.3.2b20220224 Requires-Python >=3.7, <3.10; 0.3.2b20220225 Requires-Python >=3.7, <3.10; 0.3.2b20220226 Requires-Python >=3.7, <3.10; 0.3.2b20220227 Requires-Python >=3.7, <3.10; 0.3.2b20220228 Requires-Python >=3.7, <3.10; 0.3.2b20220301 Requires-Python >=3.7, <3.10; 0.3.2b20220302 Requires-Python >=3.7, <3.10; 0.3.2b20220303 Requires-Python >=3.7, <3.10; 0.3.2b20220304 Requires-Python >=3.7, <3.10; 0.3.2b20220305 Requires-Python >=3.7, <3.10; 0.3.2b20220306 Requires-Python >=3.7, <3.10; 0.3.2b20220307 Requires-Python >=3.7, <3.10; 0.3.2b20220308 Requires-Python >=3.7, <3.10; 0.3.2b20220309 Requires-Python >=3.7, <3.10; 0.4.0 Requires-Python >=3.7, <3.10; 0.4.1 Requires-Python >=3.7, <3.10; 0.4.1b20220310 Requires-Python >=3.7, <3.10; 0.4.1b20220311 Requires-Python >=3.7, <3.10; 0.4.1b20220312 Requires-Python >=3.7, <3.10; 0.4.1b20220313 Requires-Python >=3.7, <3.10; 0.4.1b20220314 Requires-Python >=3.7, <3.10; 0.4.1b20220315 Requires-Python >=3.7, <3.10; 0.4.1b20220316 Requires-Python >=3.7, <3.10; 0.4.1b20220317 Requires-Python >=3.7, <3.10; 0.4.1b20220318 Requires-Python >=3.7, <3.10; 0.4.1b20220319 Requires-Python >=3.7, <3.10; 0.4.1b20220320 Requires-Python >=3.7, <3.10; 0.4.1b20220321 Requires-Python >=3.7, <3.10; 0.4.1b20220322 Requires-Python >=3.7, <3.10; 0.4.1b20220323 Requires-Python >=3.7, <3.10; 0.4.1b20220324 Requires-Python >=3.7, <3.10; 0.4.1b20220325 Requires-Python >=3.7, <3.10; 0.4.1b20220326 Requires-Python >=3.7, <3.10; 0.4.1b20220327 Requires-Python >=3.7, <3.10; 0.4.1b20220328 Requires-Python >=3.7, <3.10; 0.4.1b20220329 Requires-Python >=3.7, <3.10; 0.4.1b20220330 Requires-Python >=3.7, <3.10; 0.4.1b20220331 Requires-Python >=3.7, <3.10; 0.4.1b20220401 Requires-Python >=3.7, <3.10; 0.4.1b20220402 Requires-Python >=3.7, <3.10; 0.4.1b20220403 Requires-Python >=3.7, <3.10; 0.4.1b20220404 Requires-Python >=3.7, <3.10; 0.4.1b20220405 Requires-Python >=3.7, <3.10; 0.4.1b20220406 Requires-Python >=3.7, <3.10; 0.4.1b20220407 Requires-Python >=3.7, <3.10; 0.4.1b20220408 Requires-Python >=3.7, <3.10; 0.4.1b20220409 Requires-Python >=3.7, <3.10; 0.4.1b20220410 Requires-Python >=3.7, <3.10; 0.4.1b20220411 Requires-Python >=3.7, <3.10; 0.4.1b20220412 Requires-Python >=3.7, <3.10; 0.4.1b20220413 Requires-Python >=3.7, <3.10; 0.4.1b20220414 Requires-Python >=3.7, <3.10; 0.4.1b20220415 Requires-Python >=3.7, <3.10; 0.4.1b20220416 Requires-Python >=3.7, <3.10; 0.4.1b20220417 Requires-Python >=3.7, <3.10; 0.4.1b20220418 Requires-Python >=3.7, <3.10; 0.4.1b20220419 Requires-Python >=3.7, <3.10; 0.4.1b20220420 Requires-Python >=3.7, <3.10; 0.4.1b20220421 Requires-Python >=3.7, <3.10; 0.4.1b20220422 Requires-Python >=3.7, <3.10; 0.4.1b20220423 Requires-Python >=3.7, <3.10; 0.4.1b20220424 Requires-Python >=3.7, <3.10; 0.4.1b20220425 Requires-Python >=3.7, <3.10; 0.4.1b20220426 Requires-Python >=3.7, <3.10; 0.4.1b20220427 Requires-Python >=3.7, <3.10; 0.4.1b20220428 Requires-Python >=3.7, <3.10; 0.4.1b20220429 Requires-Python >=3.7, <3.10; 0.4.1b20220430 Requires-Python >=3.7, <3.10; 0.4.1b20220501 Requires-Python >=3.7, <3.10; 0.4.1b20220502 Requires-Python >=3.7, <3.10; 0.4.1b20220503 Requires-Python >=3.7, <3.10; 0.4.1b20220504 Requires-Python >=3.7, <3.10; 0.4.1b20220505 Requires-Python >=3.7, <3.10; 0.4.1b20220506 Requires-Python >=3.7, <3.10; 0.4.1b20220507 Requires-Python >=3.7, <3.10; 0.4.1b20220508 Requires-Python >=3.7, <3.10; 0.4.1b20220509 Requires-Python >=3.7, <3.10; 0.4.1b20220510 Requires-Python >=3.7, <3.10; 0.4.1b20220511 Requires-Python >=3.7, <3.10; 0.4.1b20220512 Requires-Python >=3.7, <3.10; 0.4.1b20220513 Requires-Python >=3.7, <3.10; 0.4.1b20220514 Requires-Python >=3.7, <3.10; 0.4.1b20220515 Requires-Python >=3.7, <3.10; 0.4.1b20220516 Requires-Python >=3.7, <3.10; 0.4.1b20220517 Requires-Python >=3.7, <3.10; 0.4.1b20220518 Requires-Python >=3.7, <3.10; 0.4.1b20220519 Requires-Python >=3.7, <3.10; 0.4.1b20220520 Requires-Python >=3.7, <3.10; 0.4.2 Requires-Python >=3.7, <3.10; 0.4.2b20220521 Requires-Python >=3.7, <3.10; 0.4.2b20220522 Requires-Python >=3.7, <3.10; 0.4.2b20220523 Requires-Python >=3.7, <3.10; 0.4.2b20220524 Requires-Python >=3.7, <3.10; 0.4.2b20220525 Requires-Python >=3.7, <3.10; 0.4.2b20220526 Requires-Python >=3.7, <3.10; 0.4.2b20220527 Requires-Python >=3.7, <3.10; 0.4.2b20220528 Requires-Python >=3.7, <3.10; 0.4.2b20220529 Requires-Python >=3.7, <3.10; 0.4.2b20220530 Requires-Python >=3.7, <3.10; 0.4.2b20220531 Requires-Python >=3.7, <3.10; 0.4.3 Requires-Python >=3.7, <3.10; 0.4.3b20220601 Requires-Python >=3.7, <3.10; 0.4.3b20220602 Requires-Python >=3.7, <3.10; 0.4.3b20220603 Requires-Python >=3.7, <3.10; 0.4.3b20220604 Requires-Python >=3.7, <3.10; 0.4.3b20220605 Requires-Python >=3.7, <3.10; 0.4.3b20220606 Requires-Python >=3.7, <3.10; 0.4.3b20220607 Requires-Python >=3.7, <3.10; 0.4.3b20220608 Requires-Python >=3.7, <3.10; 0.4.3b20220609 Requires-Python >=3.7, <3.10; 0.4.3b20220610 Requires-Python >=3.7, <3.10; 0.4.3b20220611 Requires-Python >=3.7, <3.10; 0.4.3b20220612 Requires-Python >=3.7, <3.10; 0.4.3b20220613 Requires-Python >=3.7, <3.10; 0.4.3b20220614 Requires-Python >=3.7, <3.10; 0.4.3b20220615 Requires-Python >=3.7, <3.10; 0.4.3b20220616 Requires-Python >=3.7, <3.10; 0.4.3b20220617 Requires-Python >=3.7, <3.10; 0.4.3b20220618 Requires-Python >=3.7, <3.10; 0.4.3b20220619 Requires-Python >=3.7, <3.10; 0.4.3b20220620 Requires-Python >=3.7, <3.10; 0.4.3b20220621 Requires-Python >=3.7, <3.10; 0.4.3b20220622 Requires-Python >=3.7, <3.10; 0.5.0 Requires-Python >=3.7, <3.10; 0.5.0b20220623 Requires-Python >=3.7, <3.10; 0.5.0rc1 Requires-Python >=3.7, <3.10; 0.5.1 Requires-Python >=3.7, <3.10; 0.5.1b20220624 Requires-Python >=3.7, <3.10; 0.5.1b20220625 Requires-Python >=3.7, <3.10; 0.5.1b20220626 Requires-Python >=3.7, <3.10; 0.5.1b20220627 Requires-Python >=3.7, <3.10; 0.5.1b20220628 Requires-Python >=3.7, <3.10; 0.5.1b20220629 Requires-Python >=3.7, <3.10; 0.5.1b20220630 Requires-Python >=3.7, <3.10; 0.5.1b20220701 Requires-Python >=3.7, <3.10; 0.5.1b20220702 Requires-Python >=3.7, <3.10; 0.5.1b20220703 Requires-Python >=3.7, <3.10; 0.5.1b20220704 Requires-Python >=3.7, <3.10; 0.5.1b20220705 Requires-Python >=3.7, <3.10; 0.5.1b20220706 Requires-Python >=3.7, <3.10; 0.5.1b20220707 Requires-Python >=3.7, <3.10; 0.5.1b20220708 Requires-Python >=3.7, <3.10; 0.5.1b20220709 Requires-Python >=3.7, <3.10; 0.5.1b20220710 Requires-Python >=3.7, <3.10; 0.5.1b20220711 Requires-Python >=3.7, <3.10; 0.5.1b20220712 Requires-Python >=3.7, <3.10; 0.5.1b20220713 Requires-Python >=3.7, <3.10; 0.5.1b20220714 Requires-Python >=3.7, <3.10; 0.5.1b20220715 Requires-Python >=3.7, <3.10; 0.5.1b20220716 Requires-Python >=3.7, <3.10; 0.5.1b20220717 Requires-Python >=3.7, <3.10; 0.5.1b20220718 Requires-Python >=3.7, <3.10; 0.5.2 Requires-Python >=3.7, <3.10; 0.5.2b20220719 Requires-Python >=3.7, <3.10; 0.5.2b20220720 Requires-Python >=3.7, <3.10; 0.5.2b20220721 Requires-Python >=3.7, <3.10; 0.5.2b20220722 Requires-Python >=3.7, <3.10; 0.5.2b20220723 Requires-Python >=3.7, <3.10; 0.5.2b20220724 Requires-Python >=3.7, <3.10; 0.5.2b20220725 Requires-Python >=3.7, <3.10; 0.5.2b20220726 Requires-Python >=3.7, <3.10; 0.5.2b20220727 Requires-Python >=3.7, <3.10; 0.5.2b20220728 Requires-Python >=3.7, <3.10; 0.5.3 Requires-Python >=3.7, <3.10; 0.5.3b20220729 Requires-Python >=3.7, <3.10; 0.5.3b20220730 Requires-Python >=3.7, <3.10; 0.5.3b20220731 Requires-Python >=3.7, <3.10; 0.5.3b20220801 Requires-Python >=3.7, <3.10; 0.5.3b20220802 Requires-Python >=3.7, <3.10; 0.5.3b20220803 Requires-Python >=3.7, <3.10; 0.5.3b20220804 Requires-Python >=3.7, <3.10; 0.5.3b20220805 Requires-Python >=3.7, <3.10; 0.5.3b20220806 Requires-Python >=3.7, <3.10; 0.5.3b20220807 Requires-Python >=3.7, <3.10; 0.5.3b20220808 Requires-Python >=3.7, <3.10; 0.5.3b20220809 Requires-Python >=3.7, <3.10; 0.5.3b20220810 Requires-Python >=3.7, <3.10; 0.5.3b20220811 Requires-Python >=3.7, <3.10; 0.5.3b20220812 Requires-Python >=3.7, <3.10; 0.5.3b20220813 Requires-Python >=3.7, <3.10; 0.5.3b20220814 Requires-Python >=3.7, <3.10; 0.5.3b20220815 Requires-Python >=3.7, <3.10; 0.5.3b20220816 Requires-Python >=3.7, <3.10; 0.5.3b20220817 Requires-Python >=3.7, <3.10; 0.5.3b20220818 Requires-Python >=3.7, <3.10; 0.5.3b20220819 Requires-Python >=3.7, <3.10; 0.5.3b20220820 Requires-Python >=3.7, <3.10; 0.5.3b20220821 Requires-Python >=3.7, <3.10; 0.5.3b20220822 Requires-Python >=3.7, <3.10; 0.5.3b20220823 Requires-Python >=3.7, <3.10; 0.5.3b20220824 Requires-Python >=3.7, <3.10; 0.5.3b20220825 Requires-Python >=3.7, <3.10; 0.5.3b20220826 Requires-Python >=3.7, <3.10; 0.5.3b20220827 Requires-Python >=3.7, <3.10; 0.5.3b20220828 Requires-Python >=3.7, <3.10; 0.5.3b20220829 Requires-Python >=3.7, <3.10; 0.5.3b20220830 Requires-Python >=3.7, <3.10; 0.5.3b20220831 Requires-Python >=3.7, <3.10; 0.5.3b20220901 Requires-Python >=3.7, <3.10; 0.5.3b20220902 Requires-Python >=3.7, <3.10; 0.5.3b20220903 Requires-Python >=3.7, <3.10; 0.5.3b20220904 Requires-Python >=3.7, <3.10; 0.5.3b20220905 Requires-Python >=3.7, <3.10; 0.5.3b20220906 Requires-Python >=3.7, <3.10; 0.5.3b20220907 Requires-Python >=3.7, <3.10; 0.5.3b20220908 Requires-Python >=3.7, <3.10; 0.5.3b20220909 Requires-Python >=3.7, <3.10; 0.5.3b20220910 Requires-Python >=3.7, <3.10; 0.5.3b20220911 Requires-Python >=3.7, <3.10; 0.5.3b20220912 Requires-Python >=3.7, <3.10; 0.5.3b20220913 Requires-Python >=3.7, <3.10; 0.5.3b20220914 Requires-Python >=3.7, <3.10; 0.5.3b20220915 Requires-Python >=3.7, <3.10; 0.5.3b20220916 Requires-Python >=3.7, <3.10; 0.5.3b20220917 Requires-Python >=3.7, <3.10; 0.5.3b20220918 Requires-Python >=3.7, <3.10; 0.5.3b20220919 Requires-Python >=3.7, <3.10; 0.5.3b20220920 Requires-Python >=3.7, <3.10; 0.5.3b20220921 Requires-Python >=3.7, <3.10; 0.5.3b20220922 Requires-Python >=3.7, <3.10; 0.5.3b20220923 Requires-Python >=3.7, <3.10; 0.5.3b20220924 Requires-Python >=3.7, <3.10; 0.5.3b20220925 Requires-Python >=3.7, <3.10; 0.5.3b20220926 Requires-Python >=3.7, <3.10; 0.5.3b20220927 Requires-Python >=3.7, <3.10; 0.5.3b20220928 Requires-Python >=3.7, <3.10; 0.5.3b20220929 Requires-Python >=3.7, <3.10; 0.5.3b20220930 Requires-Python >=3.7, <3.10; 0.5.3b20221001 Requires-Python >=3.7, <3.10; 0.5.3b20221002 Requires-Python >=3.7, <3.10; 0.5.3b20221003 Requires-Python >=3.7, <3.10; 0.5.3b20221004 Requires-Python >=3.7, <3.10; 0.5.3b20221005 Requires-Python >=3.7, <3.10; 0.5.3b20221006 Requires-Python >=3.7, <3.10; 0.5.3b20221007 Requires-Python >=3.7, <3.10; 0.5.3b20221008 Requires-Python >=3.7, <3.10; 0.5.3b20221009 Requires-Python >=3.7, <3.10; 0.5.3b20221010 Requires-Python >=3.7, <3.10; 0.5.3b20221011 Requires-Python >=3.7, <3.10; 0.5.3b20221012 Requires-Python >=3.7, <3.10; 0.5.3b20221013 Requires-Python >=3.7, <3.10; 0.5.3b20221014 Requires-Python >=3.7, <3.10; 0.5.3b20221015 Requires-Python >=3.7, <3.10; 0.5.3b20221016 Requires-Python >=3.7, <3.10; 0.5.3b20221017 Requires-Python >=3.7, <3.10; 0.5.3b20221018 Requires-Python >=3.7, <3.10; 0.5.3b20221019 Requires-Python >=3.7, <3.10; 0.5.3b20221020 Requires-Python >=3.7, <3.10; 0.5.3b20221021 Requires-Python >=3.7, <3.10; 0.5.3b20221022 Requires-Python >=3.7, <3.10; 0.5.3b20221023 Requires-Python >=3.7, <3.10; 0.5.3b20221024 Requires-Python >=3.7, <3.10; 0.5.3b20221025 Requires-Python >=3.7, <3.10; 0.5.3b20221026 Requires-Python >=3.7, <3.10; 0.5.3b20221027 Requires-Python >=3.7, <3.10; 0.5.3b20221028 Requires-Python >=3.7, <3.10; 0.5.3b20221029 Requires-Python >=3.7, <3.10; 0.5.3b20221030 Requires-Python >=3.7, <3.10; 0.5.3b20221031 Requires-Python >=3.7, <3.10; 0.5.3b20221101 Requires-Python >=3.7, <3.10; 0.5.3b20221102 Requires-Python >=3.7, <3.10; 0.5.3b20221103 Requires-Python >=3.7, <3.10; 0.5.3b20221112 Requires-Python >=3.7, <3.10; 0.5.3b20221113 Requires-Python >=3.7, <3.10; 0.5.3b20221114 Requires-Python >=3.7, <3.10; 0.5.3b20221115 Requires-Python >=3.7, <3.10; 0.5.3b20221116 Requires-Python >=3.7, <3.10; 0.6.0 Requires-Python >=3.7, <3.10; 0.6.1 Requires-Python >=3.7, <3.10; 0.6.1b20221117 Requires-Python >=3.7, <3.10; 0.6.1b20221118 Requires-Python >=3.7, <3.10; 0.6.1b20221119 Requires-Python >=3.7, <3.10; 0.6.1b20221120 Requires-Python >=3.7, <3.10; 0.6.1b20221121 Requires-Python >=3.7, <3.10; 0.6.1b20221122 Requires-Python >=3.7, <3.10; 0.6.1b20221123 Requires-Python >=3.7, <3.10; 0.6.1b20221124 Requires-Python >=3.7, <3.10; 0.6.1b20221125 Requires-Python >=3.7, <3.10; 0.6.1b20221126 Requires-Python >=3.7, <3.10; 0.6.1b20221127 Requires-Python >=3.7, <3.10; 0.6.1b20221128 Requires-Python >=3.7, <3.10; 0.6.1b20221129 Requires-Python >=3.7, <3.10; 0.6.1b20221130 Requires-Python >=3.7, <3.10; 0.6.1b20221201 Requires-Python >=3.7, <3.10; 0.6.1b20221202 Requires-Python >=3.7, <3.10; 0.6.1b20221203 Requires-Python >=3.7, <3.10; 0.6.1b20221204 Requires-Python >=3.7, <3.10; 0.6.1b20221205 Requires-Python >=3.7, <3.10; 0.6.1b20221206 Requires-Python >=3.7, <3.10; 0.6.1b20221207 Requires-Python >=3.7, <3.10; 0.6.1b20221208 Requires-Python >=3.7, <3.10; 0.6.1b20221209 Requires-Python >=3.7, <3.10; 0.6.1b20221210 Requires-Python >=3.7, <3.10; 0.6.1b20221211 Requires-Python >=3.7, <3.10; 0.6.1b20221212 Requires-Python >=3.7, <3.10; 0.6.2 Requires-Python >=3.7, <3.10; 0.6.2b20221213 Requires-Python >=3.7, <3.10; 0.6.2b20221214 Requires-Python >=3.7, <3.10; 0.6.2b20221215 Requires-Python >=3.7, <3.10; 0.6.2b20221216 Requires-Python >=3.7, <3.10; 0.6.2b20221217 Requires-Python >=3.7, <3.10; 0.6.2b20221218 Requires-Python >=3.7, <3.10; 0.6.2b20221219 Requires-Python >=3.7, <3.10; 0.6.2b20221220 Requires-Python >=3.7, <3.10; 0.6.2b20221221 Requires-Python >=3.7, <3.10; 0.6.2b20221222 Requires-Python >=3.7, <3.10; 0.6.2b20221223 Requires-Python >=3.7, <3.10; 0.6.2b20221224 Requires-Python >=3.7, <3.10; 0.6.2b20221225 Requires-Python >=3.7, <3.10; 0.6.2b20221226 Requires-Python >=3.7, <3.10; 0.6.2b20221227 Requires-Python >=3.7, <3.10; 0.6.2b20221228 Requires-Python >=3.7, <3.10; 0.6.2b20221229 Requires-Python >=3.7, <3.10; 0.6.2b20221230 Requires-Python >=3.7, <3.10; 0.6.2b20221231 Requires-Python >=3.7, <3.10; 0.6.2b20230101 Requires-Python >=3.7, <3.10; 0.6.2b20230102 Requires-Python >=3.7, <3.10; 0.6.2b20230103 Requires-Python >=3.7, <3.10; 0.6.2b20230104 Requires-Python >=3.7, <3.10; 0.6.2b20230105 Requires-Python >=3.7, <3.10; 0.6.2b20230106 Requires-Python >=3.7, <3.10; 0.6.2b20230107 Requires-Python >=3.7, <3.10; 0.6.2b20230108 Requires-Python >=3.7, <3.10; 0.6.2b20230109 Requires-Python >=3.7, <3.10; 0.6.2b20230110 Requires-Python >=3.7, <3.10; 0.6.2b20230111 Requires-Python >=3.7, <3.10; 0.6.3b20230112 Requires-Python >=3.7, <3.10; 0.6.3b20230113 Requires-Python >=3.7, <3.10; 0.6.3b20230114 Requires-Python >=3.7, <3.10; 0.6.3b20230115 Requires-Python >=3.7, <3.10; 0.6.3b20230116 Requires-Python >=3.7, <3.10\u001b[0m\u001b[31m\n",
      "\u001b[0m\u001b[31mERROR: Could not find a version that satisfies the requirement autogluon (from versions: 0.0.2, 0.0.3, 0.0.4, 0.0.5, 0.0.6b4042020, 0.0.6, 0.0.7b1052020, 0.0.7b2052020, 0.0.7b3052020, 0.0.7b4042020, 0.0.7b4052020, 0.0.7b5052020, 0.0.7b6042020, 0.0.7b6052020, 0.0.7b7042020, 0.0.7b7052020, 0.0.7b8052020, 0.0.7b9052020, 0.0.7b10052020, 0.0.7b11052020, 0.0.7b12042020, 0.0.7b14042020, 0.0.7b15042020, 0.0.7b16042020, 0.0.7b17042020, 0.0.7b18042020, 0.0.7b19042020, 0.0.7b20042020, 0.0.7b21042020, 0.0.7b22042020, 0.0.7b23042020, 0.0.7b24042020, 0.0.7b25042020, 0.0.7b26042020, 0.0.7b27042020, 0.0.7b28042020, 0.0.7b29042020, 0.0.7b30042020, 0.0.7, 0.0.8b20200512, 0.0.8, 0.0.9b20200513, 0.0.9, 0.0.10b20200514, 0.0.10b20200515, 0.0.10b20200516, 0.0.10b20200517, 0.0.10b20200518, 0.0.10b20200519, 0.0.10b20200520, 0.0.10b20200521, 0.0.10b20200522, 0.0.10b20200523, 0.0.10b20200524, 0.0.10b20200525, 0.0.10b20200526, 0.0.10b20200527, 0.0.10b20200528, 0.0.10b20200529, 0.0.10b20200530, 0.0.10b20200531, 0.0.10b20200601, 0.0.10b20200602, 0.0.10b20200603, 0.0.10, 0.0.11b20200604, 0.0.11b20200605, 0.0.11b20200606, 0.0.11b20200607, 0.0.11b20200608, 0.0.11b20200609, 0.0.11b20200610, 0.0.11b20200611, 0.0.11b20200612, 0.0.11b20200613, 0.0.11b20200614, 0.0.11, 0.0.12b20200615, 0.0.12b20200616, 0.0.12b20200617, 0.0.12b20200618, 0.0.12b20200619, 0.0.12b20200620, 0.0.12b20200621, 0.0.12b20200622, 0.0.12b20200623, 0.0.12b20200624, 0.0.12b20200625, 0.0.12b20200626, 0.0.12b20200627, 0.0.12b20200628, 0.0.12b20200629, 0.0.12b20200630, 0.0.12b20200701, 0.0.12b20200702, 0.0.12b20200703, 0.0.12b20200704, 0.0.12b20200705, 0.0.12b20200706, 0.0.12b20200707, 0.0.12b20200708, 0.0.12b20200709, 0.0.12b20200710, 0.0.12b20200711, 0.0.12b20200712, 0.0.12b20200713, 0.0.12, 0.0.13b20200714, 0.0.13b20200715, 0.0.13b20200716, 0.0.13b20200717, 0.0.13b20200718, 0.0.13b20200719, 0.0.13b20200720, 0.0.13b20200721, 0.0.13b20200722, 0.0.13b20200723, 0.0.13b20200724, 0.0.13b20200725, 0.0.13b20200726, 0.0.13b20200727, 0.0.13b20200728, 0.0.13b20200729, 0.0.13b20200730, 0.0.13b20200731, 0.0.13b20200801, 0.0.13b20200802, 0.0.13b20200803, 0.0.13b20200804, 0.0.13b20200805, 0.0.13b20200806, 0.0.13b20200807, 0.0.13b20200808, 0.0.13b20200809, 0.0.13b20200810, 0.0.13b20200811, 0.0.13b20200812, 0.0.13b20200813, 0.0.13b20200814, 0.0.13b20200815, 0.0.13b20200816, 0.0.13b20200817, 0.0.13b20200818, 0.0.13b20200819, 0.0.13b20200820, 0.0.13b20200821, 0.0.13b20200822, 0.0.13b20200823, 0.0.13b20200824, 0.0.13, 0.0.14b20200825, 0.0.14b20200826, 0.0.14b20200827, 0.0.14b20200828, 0.0.14b20200829, 0.0.14b20200830, 0.0.14b20200831, 0.0.14b20200901, 0.0.14b20200902, 0.0.14b20200903, 0.0.14b20200904, 0.0.14b20200905, 0.0.14b20200906, 0.0.14b20200907, 0.0.14b20200908, 0.0.14b20200909, 0.0.14b20200910, 0.0.14b20200911, 0.0.14b20200912, 0.0.14b20200913, 0.0.14b20200914, 0.0.14b20200915, 0.0.14b20200916, 0.0.14b20200917, 0.0.14b20200918, 0.0.14b20200919, 0.0.14b20200920, 0.0.14b20200921, 0.0.14b20200922, 0.0.14b20200923, 0.0.14b20200924, 0.0.14b20200925, 0.0.14b20200926, 0.0.14b20200927, 0.0.14b20200928, 0.0.14b20200929, 0.0.14b20200930, 0.0.14b20201001, 0.0.14b20201002, 0.0.14, 0.0.15b20201003, 0.0.15b20201004, 0.0.15b20201005, 0.0.15b20201006, 0.0.15b20201007, 0.0.15b20201008, 0.0.15b20201009, 0.0.15b20201010, 0.0.15b20201011, 0.0.15b20201012, 0.0.15b20201013, 0.0.15b20201014, 0.0.15b20201015, 0.0.15b20201016, 0.0.15b20201017, 0.0.15b20201018, 0.0.15b20201019, 0.0.15b20201020, 0.0.15b20201021, 0.0.15b20201022, 0.0.15b20201023, 0.0.15b20201024, 0.0.15b20201025, 0.0.15b20201026, 0.0.15b20201027, 0.0.15b20201028, 0.0.15b20201029, 0.0.15b20201030, 0.0.15b20201031, 0.0.15b20201101, 0.0.15b20201102, 0.0.15b20201103, 0.0.15b20201104, 0.0.15b20201105, 0.0.15b20201106, 0.0.15b20201107, 0.0.15b20201108, 0.0.15b20201109, 0.0.15b20201110, 0.0.15b20201111, 0.0.15b20201112, 0.0.15b20201113, 0.0.15b20201114, 0.0.15b20201115, 0.0.15b20201116, 0.0.15b20201117, 0.0.15b20201118, 0.0.15b20201119, 0.0.15b20201120, 0.0.15b20201121, 0.0.15b20201122, 0.0.15b20201123, 0.0.15b20201124, 0.0.15b20201125, 0.0.15b20201126, 0.0.15b20201127, 0.0.15b20201128, 0.0.15b20201129, 0.0.15b20201130, 0.0.15b20201201, 0.0.15b20201202, 0.0.15b20201203, 0.0.15b20201204, 0.0.15b20201205, 0.0.15b20201206, 0.0.15b20201207, 0.0.15, 0.0.16b20201208, 0.0.16b20201209, 0.0.16b20201210, 0.0.16b20201211, 0.0.16b20201212, 0.0.16b20201213, 0.0.16b20201214, 0.0.16b20201215, 0.0.16b20201216, 0.0.16b20201217, 0.0.16b20201218, 0.0.16b20201219, 0.0.16b20201220, 0.0.16b20201221, 0.0.16b20201222, 0.0.16b20201223, 0.0.16b20201224, 0.0.16b20201225, 0.0.16b20201226, 0.0.16b20201227, 0.0.16b20201228, 0.0.16b20201229, 0.0.16b20201230, 0.0.16b20201231, 0.0.16b20210101, 0.0.16b20210102, 0.0.16b20210103, 0.0.16b20210104, 0.0.16b20210105, 0.0.16b20210106, 0.0.16b20210107, 0.0.16b20210108, 0.0.16b20210109, 0.0.16b20210110, 0.0.16b20210111, 0.0.16b20210112, 0.0.16b20210113, 0.0.16b20210114, 0.0.16b20210115, 0.0.16b20210116, 0.0.16b20210117, 0.0.16b20210118, 0.0.16b20210119, 0.0.16b20210120, 0.0.16b20210121, 0.0.16b20210122, 0.0.16b20210123, 0.0.16b20210124, 0.0.16b20210125, 0.0.16b20210126, 0.0.16b20210127, 0.0.16b20210128, 0.0.16b20210129, 0.0.16b20210130, 0.0.16b20210131, 0.0.16b20210201, 0.0.16b20210202, 0.0.16b20210203, 0.0.16b20210204, 0.0.16b20210205, 0.0.16b20210206, 0.6.3b20230117, 0.6.3b20230118, 0.6.3b20230119, 0.6.3b20230120, 0.6.3b20230121, 0.6.3b20230122, 0.6.3b20230123, 0.6.3b20230124, 0.6.3b20230125, 0.6.3b20230126, 0.6.3b20230127, 0.6.3b20230128, 0.6.3b20230129, 0.6.3b20230130, 0.6.3b20230131, 0.6.3b20230201, 0.6.3b20230202)\u001b[0m\u001b[31m\n",
      "\u001b[0m\u001b[31mERROR: No matching distribution found for autogluon\u001b[0m\u001b[31m\n",
      "\u001b[0m"
     ]
    }
   ],
   "source": [
    "!pip install autogluon"
   ]
  },
  {
   "cell_type": "code",
   "execution_count": null,
   "id": "1ed37d52-3356-4504-8efa-07f81a0f88a8",
   "metadata": {},
   "outputs": [],
   "source": [
    "import pandas as pd\n",
    "import numpy as np\n",
    "import matplotlib.pyplot as plt"
   ]
  },
  {
   "cell_type": "code",
   "execution_count": null,
   "id": "849cb44b-8685-4b0b-af71-ddc398e70b78",
   "metadata": {},
   "outputs": [],
   "source": [
    "def rm_outlier(df):\n",
    "    y_p75 = np.percentile(df[rate], 75)\n",
    "    y_p25 = np.percentile(df[rate], 25)\n",
    "    upper_bound = (y_p75-y_p25)*1.5+y_p75\n",
    "    return df[df[rate] <= upper_bound]"
   ]
  },
  {
   "cell_type": "code",
   "execution_count": null,
   "id": "aee248d0-8dfa-4daf-9ad7-a579003e67ca",
   "metadata": {},
   "outputs": [],
   "source": [
    "def train_test_split_df(df, test_size=0.2):\n",
    "    test_df = df.sample(frac = test_size)\n",
    "    train_df = df.drop(test_df.index)\n",
    "    return train_df, test_df"
   ]
  },
  {
   "cell_type": "code",
   "execution_count": null,
   "id": "c4f129f2-abfd-4ec9-81f7-bff0635b6538",
   "metadata": {},
   "outputs": [],
   "source": [
    "train_data = pd.read_csv('data/distance_from_airport_train_good.csv').drop(['tumbol_name','amphur_name','province_name'], axis=1)\n",
    "rate = 'poverty_rate_living'\n",
    "pov_rate = [c for c in train_data.columns if 'poverty_rate' in c and c != rate]\n",
    "train_data = train_data.drop(pov_rate, axis=1)\n",
    "# train_data['LAT'] = np.cos(train_data['LAT'])\n",
    "# train_data['LONG'] = np.cos(train_data['LONG'])\n",
    "train_data"
   ]
  },
  {
   "cell_type": "code",
   "execution_count": null,
   "id": "ac8befd4-a10f-4b34-a0f1-04ad40b35606",
   "metadata": {},
   "outputs": [],
   "source": [
    "train_df, test_df = train_test_split_df(train_data)\n",
    "print(train_df.shape, test_df.shape)\n",
    "train_df = rm_outlier(train_df)\n",
    "print(train_df.shape, test_df.shape)"
   ]
  },
  {
   "cell_type": "code",
   "execution_count": null,
   "id": "c038c554-1e69-4450-a2ae-6739ef22f726",
   "metadata": {},
   "outputs": [],
   "source": [
    "X_train = train_df.iloc[:, 1:-1].values\n",
    "y_train = train_df.iloc[:, -1].values\n",
    "print(X_train.shape, y_train.shape)\n",
    "\n",
    "X_test = test_df.iloc[:, 1:-1].values\n",
    "y_test = test_df.iloc[:, -1].values\n",
    "print(X_test.shape, y_test.shape)"
   ]
  },
  {
   "cell_type": "code",
   "execution_count": null,
   "id": "e040cbd3-596b-4d8a-9764-3abea1e88f8b",
   "metadata": {},
   "outputs": [],
   "source": [
    "# from sklearn.model_selection import train_test_split\n",
    "# X_train, X_test, y_train, y_test = train_test_split(X, y, test_size=0.2, random_state=None)\n",
    "\n",
    "# X_train_df\n",
    "# print(X_train.shape, X_test.shape, y_train.shape, y_test.shape)"
   ]
  },
  {
   "cell_type": "code",
   "execution_count": null,
   "id": "8bbab2a4-232c-4749-82aa-75e3ff76f4cc",
   "metadata": {},
   "outputs": [],
   "source": [
    "from sklearn.preprocessing import StandardScaler\n",
    "from sklearn.linear_model import HuberRegressor\n",
    "from sklearn.ensemble import AdaBoostClassifier, AdaBoostRegressor, ExtraTreesClassifier, ExtraTreesRegressor\n",
    "# from catboost import CatBoostClassifier, CatBoostRegressor\n",
    "from sklearn.pipeline import Pipeline\n",
    "from sklearn.model_selection import cross_val_score\n",
    "from sklego.meta import ZeroInflatedRegressor\n",
    "\n",
    "X_scaler = StandardScaler()\n",
    "y_scaler = StandardScaler()\n",
    "\n",
    "X_train = X_scaler.fit_transform(X_train)\n",
    "X_test = X_scaler.transform(X_test)\n",
    "\n",
    "y_train = y_scaler.fit_transform(y_train.reshape(-1, 1)).reshape(-1)"
   ]
  },
  {
   "cell_type": "code",
   "execution_count": null,
   "id": "386cd1f6-ba11-44a5-875e-d6d26c95ee44",
   "metadata": {},
   "outputs": [],
   "source": [
    "# from sklearn.decomposition import PCA\n",
    "\n",
    "# pca = PCA(n_components=100)\n",
    "# X_train = pca.fit_transform(X_train)\n",
    "# X_test = pca.transform(X_test)"
   ]
  },
  {
   "cell_type": "code",
   "execution_count": null,
   "id": "bff66f7e-0f95-457c-bee6-92d833c18397",
   "metadata": {},
   "outputs": [],
   "source": [
    "zir = ZeroInflatedRegressor(\n",
    "    classifier=ExtraTreesClassifier(),\n",
    "    regressor=HuberRegressor(max_iter=1000)\n",
    ")\n",
    "\n",
    "zir.fit(X_train, y_train)"
   ]
  },
  {
   "cell_type": "code",
   "execution_count": null,
   "id": "a9d8e8a0-27cf-4f54-acf4-fb6c804a35b6",
   "metadata": {},
   "outputs": [],
   "source": [
    "y_pred = zir.predict(X_test)\n",
    "y_pred = y_scaler.inverse_transform(y_pred.reshape(-1, 1))"
   ]
  },
  {
   "cell_type": "code",
   "execution_count": null,
   "id": "e9c1ccbb-9d36-4081-b24f-aa9bbaac8ea5",
   "metadata": {},
   "outputs": [],
   "source": [
    "from sklearn.metrics import mean_absolute_error\n",
    "\n",
    "mae = mean_absolute_error(y_test, y_pred)\n",
    "mae"
   ]
  },
  {
   "cell_type": "code",
   "execution_count": null,
   "id": "377178cb-617e-4692-a519-c64cb6b6e24a",
   "metadata": {},
   "outputs": [],
   "source": [
    "mean_absolute_error(y_test, [0]*910)"
   ]
  },
  {
   "cell_type": "code",
   "execution_count": null,
   "id": "2ab1d468-b414-4d15-a181-1b4f8ff99ab4",
   "metadata": {},
   "outputs": [],
   "source": [
    "test_data = pd.read_csv('data/merged-data/test_v9.csv').drop('Region', axis=1)\n",
    "test_data"
   ]
  },
  {
   "cell_type": "code",
   "execution_count": null,
   "id": "18dc318f-fbb8-452a-ad16-33dff7c7e22f",
   "metadata": {},
   "outputs": [],
   "source": [
    "test_rm_nan = test_data.dropna()\n",
    "test_rm_nan"
   ]
  },
  {
   "cell_type": "code",
   "execution_count": null,
   "id": "907c7320-ed04-4ee8-8608-69a0ff4ab26c",
   "metadata": {},
   "outputs": [],
   "source": [
    "X_submit = test_rm_nan.iloc[:, 1:].values\n",
    "# X_submit = pca.transform(X_submit)"
   ]
  },
  {
   "cell_type": "code",
   "execution_count": null,
   "id": "140f33a5-c65c-4c64-aad9-346ce39e2580",
   "metadata": {},
   "outputs": [],
   "source": [
    "y_submit = zir.predict(X_submit)\n",
    "y_submit = y_scaler.inverse_transform(y_submit.reshape(-1, 1))"
   ]
  },
  {
   "cell_type": "code",
   "execution_count": null,
   "id": "37079182-f762-4bd9-a2e7-3a1829638bce",
   "metadata": {},
   "outputs": [],
   "source": [
    "test_rm_nan[rate] = y_submit\n",
    "submit_df = test_data.merge(test_rm_nan, on= 'tumbol_ID', how= 'left')[['tumbol_ID', 'poverty_rate_living']].fillna(0)\n",
    "submit_df"
   ]
  },
  {
   "cell_type": "code",
   "execution_count": null,
   "id": "ac2141c2-cb7d-4a85-9188-682447a3ff78",
   "metadata": {},
   "outputs": [],
   "source": []
  }
 ],
 "metadata": {
  "kernelspec": {
   "display_name": "Python 3 (ipykernel)",
   "language": "python",
   "name": "python3"
  },
  "language_info": {
   "codemirror_mode": {
    "name": "ipython",
    "version": 3
   },
   "file_extension": ".py",
   "mimetype": "text/x-python",
   "name": "python",
   "nbconvert_exporter": "python",
   "pygments_lexer": "ipython3",
   "version": "3.10.6"
  }
 },
 "nbformat": 4,
 "nbformat_minor": 5
}

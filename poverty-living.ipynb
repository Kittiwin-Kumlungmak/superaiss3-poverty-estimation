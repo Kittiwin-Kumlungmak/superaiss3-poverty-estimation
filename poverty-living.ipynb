{
 "cells": [
  {
   "cell_type": "code",
   "execution_count": null,
   "id": "64d7309b-e989-465f-8b75-38ba74e6baa9",
   "metadata": {},
   "outputs": [],
   "source": [
    "import pandas as pd\n",
    "import numpy as np\n",
    "import scipy\n",
    "import matplotlib.pyplot as plt\n",
    "import seaborn as sns"
   ]
  },
  {
   "cell_type": "code",
   "execution_count": null,
   "id": "6d5fdc17-81ce-481e-9399-eb405662821e",
   "metadata": {
    "tags": []
   },
   "outputs": [],
   "source": [
    "places_df = pd.read_csv('data/final_all_feature_acc.csv')\n",
    "places_df = places_df.drop(['Unnamed: 0','tumbol_name','amphur_name', 'province_name', 'amphur_ID', 'province_ID','TUMBOL_ID'], axis=1)\n",
    "places_df.head()"
   ]
  },
  {
   "cell_type": "code",
   "execution_count": null,
   "id": "dd6c9ccc-2f66-4c5b-bcf4-30d474f79a29",
   "metadata": {},
   "outputs": [],
   "source": [
    "places_df = places_df[['total_population', 'SusCo gas station', 'port, pier ', 'poverty_rate_accessibility']]\n",
    "places_df"
   ]
  },
  {
   "cell_type": "code",
   "execution_count": null,
   "id": "6c3b5ec0-8956-4caa-a488-0002d7732c80",
   "metadata": {},
   "outputs": [],
   "source": [
    "X = places_df.drop(['poverty_rate_accessibility'], axis=1).to_numpy()\n",
    "y = places_df['poverty_rate_accessibility'].values.reshape(-1,1)\n",
    "print(X.shape, y.shape)"
   ]
  },
  {
   "cell_type": "code",
   "execution_count": null,
   "id": "45e8df5a-fe4e-4442-9c11-00e0dbedfa88",
   "metadata": {
    "tags": []
   },
   "outputs": [],
   "source": [
    "# '''Normalize X using population'''\n",
    "# for i in range(X.shape[1]):\n",
    "    # X[:,i] = X[:,i] / places_df['total_population'].astype('float')\n",
    "    # X[:,i] = X[:,i].astype('float') / 9.0\n",
    "    # break"
   ]
  },
  {
   "cell_type": "code",
   "execution_count": null,
   "id": "9fe7c1a8-2f74-467d-9a21-6ff24d94d65f",
   "metadata": {},
   "outputs": [],
   "source": [
    "'''Train-test split'''\n",
    "from sklearn.model_selection import train_test_split\n",
    "\n",
    "X_train, X_test, y_train, y_test = train_test_split(X, y, test_size=0.2, random_state=None)\n",
    "print(X_train.shape, X_test.shape, y_train.shape, y_test.shape)"
   ]
  },
  {
   "cell_type": "code",
   "execution_count": null,
   "id": "4bea6c18-8745-4323-9fc8-0635e71b39f2",
   "metadata": {},
   "outputs": [],
   "source": [
    "class log_scaler():\n",
    "    def __init__(self, base=10, a=1):\n",
    "        self.a = a\n",
    "        self.base = base\n",
    "        \n",
    "    def transform(self, x):\n",
    "        return np.log10(x+self.a) / np.log10(self.base)\n",
    "        # return np.log(x+self.a)\n",
    "    \n",
    "    def inverse_transform(self, x):\n",
    "        return np.power(self.base, x) - self.a\n",
    "        # return np.exp(x) - self.a"
   ]
  },
  {
   "cell_type": "code",
   "execution_count": null,
   "id": "492ede05-483b-4bce-8685-5552843b8413",
   "metadata": {},
   "outputs": [],
   "source": [
    "'''Normalize y'''\n",
    "from sklearn.preprocessing import StandardScaler\n",
    "\n",
    "X_scaler = StandardScaler()\n",
    "y_scaler = StandardScaler()\n",
    "\n",
    "X_train = X_scaler.fit_transform(np.log(X_train+1e-3))\n",
    "X_test = X_scaler.transform(np.log(X_test+1e-3))\n",
    "\n",
    "# y_log_scaler = log_scaler()\n",
    "# y_train = y_log_scaler.transform(y_train)\n",
    "y_train = y_scaler.fit_transform(y_train)"
   ]
  },
  {
   "cell_type": "code",
   "execution_count": null,
   "id": "a9dc2a73-f6f4-4522-a418-e8f77ac35925",
   "metadata": {
    "tags": []
   },
   "outputs": [],
   "source": [
    "'''Pipeline'''\n",
    "from sklearn.pipeline import Pipeline\n",
    "from sklearn.preprocessing import StandardScaler\n",
    "from catboost import CatBoostRegressor\n",
    "\n",
    "regressor = CatBoostRegressor(\n",
    "    # iterations=100, \n",
    "    # depth=16, \n",
    "    learning_rate=1, \n",
    "    loss_function='MAE')\n",
    "\n",
    "regressor.fit(X_train, y_train)"
   ]
  },
  {
   "cell_type": "code",
   "execution_count": null,
   "id": "44956a62-02ec-4fbd-a596-205da99f8ad0",
   "metadata": {
    "tags": []
   },
   "outputs": [],
   "source": [
    "y_pred = regressor.predict(X_test)\n",
    "y_pred = y_scaler.inverse_transform(y_pred.reshape(-1, 1))\n",
    "# y_pred = y_log_scaler.inverse_transform(y_pred)"
   ]
  },
  {
   "cell_type": "code",
   "execution_count": null,
   "id": "e014a4df-1d32-474b-afe7-ef86b9e29004",
   "metadata": {},
   "outputs": [],
   "source": [
    "from sklearn.metrics import mean_absolute_error\n",
    "mae = mean_absolute_error(y_test, y_pred)\n",
    "mae"
   ]
  },
  {
   "cell_type": "code",
   "execution_count": null,
   "id": "c283017b-ee23-43fd-984e-99270c7dde67",
   "metadata": {},
   "outputs": [],
   "source": [
    "places_df.columns"
   ]
  },
  {
   "cell_type": "code",
   "execution_count": null,
   "id": "2f8da228-7c9c-49af-89e6-e1677ae9c33e",
   "metadata": {
    "tags": []
   },
   "outputs": [],
   "source": [
    "feat_imp_df = pd.DataFrame()\n",
    "feat_imp_df['features'] = places_df.drop(['poverty_rate_accessibility'], axis=1).columns\n",
    "feat_imp_df['importances'] = regressor.feature_importances_\n",
    "feat_imp_df.sort_values('importances', ascending=False)[:50]"
   ]
  },
  {
   "cell_type": "code",
   "execution_count": null,
   "id": "63352bfc-f7c1-44ee-8a5c-6f1eb985967d",
   "metadata": {
    "tags": []
   },
   "outputs": [],
   "source": [
    "feat_imp_df.to_csv('acc_feat_imp.csv', index=False)"
   ]
  },
  {
   "cell_type": "code",
   "execution_count": null,
   "id": "944ca340-7811-4d47-81e1-73be98e45ce3",
   "metadata": {
    "tags": []
   },
   "outputs": [],
   "source": [
    "y_df = pd.DataFrame()\n",
    "y_df['test'] = y_test[:,0]\n",
    "# y_df['pred'] = y_pred[:,0]\n",
    "y_df['pred'] = y_pred\n",
    "y_df[:20]"
   ]
  },
  {
   "cell_type": "code",
   "execution_count": null,
   "id": "e1caca12-1b0c-4483-b1b4-162e556fcfd7",
   "metadata": {},
   "outputs": [],
   "source": [
    "y_df.plot()"
   ]
  },
  {
   "cell_type": "code",
   "execution_count": null,
   "id": "02f96ec9-c6d8-4431-b4c2-69ef3f592309",
   "metadata": {},
   "outputs": [],
   "source": [
    "plt.scatter(y_df.index, y_df['test'])\n",
    "plt.scatter(y_df.index, y_df['pred'])"
   ]
  },
  {
   "cell_type": "code",
   "execution_count": null,
   "id": "b31c0a4f-ba80-4399-ad14-80711f7eb09b",
   "metadata": {},
   "outputs": [],
   "source": [
    "plt.hist(y_df['test'])\n",
    "plt.hist(y_df['pred'])"
   ]
  },
  {
   "cell_type": "code",
   "execution_count": null,
   "id": "9eee8f21-24a2-4ebc-9be9-cedd3ca5baa8",
   "metadata": {},
   "outputs": [],
   "source": [
    "y_test.max()"
   ]
  },
  {
   "cell_type": "code",
   "execution_count": null,
   "id": "c562a6ac-ee81-468c-bd84-f3f9449912db",
   "metadata": {
    "tags": []
   },
   "outputs": [],
   "source": [
    "'''Correlation'''\n",
    "import matplotlib.pyplot as plt\n",
    "\n",
    "plt.figure(figsize = (20,20))\n",
    "plt.imshow(places_df.corr())\n",
    "plt.show()"
   ]
  },
  {
   "cell_type": "code",
   "execution_count": null,
   "id": "cb4c1d1b-a6d9-4c32-a6f2-758f721192d7",
   "metadata": {},
   "outputs": [],
   "source": [
    "pd.DataFrame(places_df.corr()['poverty_rate_accessibility'].abs().sort_values(ascending=False)).to_csv('acc_corr.csv')"
   ]
  },
  {
   "cell_type": "code",
   "execution_count": null,
   "id": "d87e2699-99ed-45d1-9572-c43f8bb45deb",
   "metadata": {},
   "outputs": [],
   "source": []
  }
 ],
 "metadata": {
  "kernelspec": {
   "display_name": "Python 3 (ipykernel)",
   "language": "python",
   "name": "python3"
  },
  "language_info": {
   "codemirror_mode": {
    "name": "ipython",
    "version": 3
   },
   "file_extension": ".py",
   "mimetype": "text/x-python",
   "name": "python",
   "nbconvert_exporter": "python",
   "pygments_lexer": "ipython3",
   "version": "3.10.6"
  }
 },
 "nbformat": 4,
 "nbformat_minor": 5
}

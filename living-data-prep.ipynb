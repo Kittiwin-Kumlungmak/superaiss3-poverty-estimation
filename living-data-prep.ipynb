{
 "cells": [
  {
   "cell_type": "code",
   "execution_count": null,
   "id": "1cca29ca-1a29-4720-b92a-f3b00249b6ef",
   "metadata": {},
   "outputs": [],
   "source": [
    "import pandas as pd\n",
    "import numpy as np"
   ]
  },
  {
   "cell_type": "code",
   "execution_count": null,
   "id": "ad1f92a8-43af-4582-9ec2-e5ff89876aab",
   "metadata": {
    "tags": []
   },
   "outputs": [],
   "source": [
    "dist_air_gee_train = pd.read_csv('data/dist_air_gee_train.csv')\n",
    "dist_air_gee_train"
   ]
  },
  {
   "cell_type": "code",
   "execution_count": null,
   "id": "f5c10d3b-c37e-4c32-b6ac-2a5ddfb46273",
   "metadata": {
    "tags": []
   },
   "outputs": [],
   "source": [
    "dist_air_gee_test = pd.read_csv('data/dist_air_gee_test.csv')\n",
    "dist_air_gee_test"
   ]
  },
  {
   "cell_type": "code",
   "execution_count": null,
   "id": "13e68d5b-8536-43e2-9abd-1c80b07dd0f1",
   "metadata": {
    "tags": []
   },
   "outputs": [],
   "source": [
    "region_df = pd.read_csv('data/tumbol_region_code.csv').drop(['Region','Region_code'],axis=1)\n",
    "region_df"
   ]
  },
  {
   "cell_type": "code",
   "execution_count": null,
   "id": "322f7919-925a-4572-9007-0e31b1ccd3b3",
   "metadata": {},
   "outputs": [],
   "source": [
    "dist_air_gee_reg_train = dist_air_gee_train.merge(region_df, on='tumbol_ID', how='left')[['tumbol_ID',\n",
    "    'distance_BFV',\n",
    "    'distance_UBP',\n",
    "    'distance_ROI',\n",
    "    'distance_KKC',\n",
    "    'distance_SNO',\n",
    "    'distance_KOP',\n",
    "    'distance_UTH',\n",
    "    'distance_LOE',\n",
    "    'sentinel-2_MAX_QA60',\n",
    "    'sentinel-2_MAX_B8',\n",
    "    'sentinel-2_MAX_B7',\n",
    "    'sentinel-2_MAX_B8A',\n",
    "    'sentinel-2_MAX_B6',\n",
    "    'sentinel-2_mean_B8',\n",
    "    'sentinel-2_mean_QA60',\n",
    "    'sentinel-2_mean_B7',\n",
    "    'NDBI',\n",
    "    'sentinel-2_mean_B8A',\n",
    "    'sentinel-2_mean_AOT',\n",
    "    'sentinel-2_MAX_B9',\n",
    "    'sentinel-2_MAX_MSK_CLDPRB',\n",
    "    'sentinel-2_mean_B6',\n",
    "    'sentinel-2_MAX_AOT',\n",
    "    'NDVI_max',\n",
    "    'sentinel-2_MAX_B3',\n",
    "    'sentinel-2_MAX_B2',\n",
    "    'sentinel-2_MAX_B4',\n",
    "    'NDVI_sum',\n",
    "    'sentinel-2_MAX_B5',\n",
    "    'sentinel-2_MAX_B1',\n",
    "    'region_BKK',\n",
    "    'region_Central',\n",
    "    'region_West',\n",
    "    'region_East',\n",
    "    'region_North_East',\n",
    "    'region_North',\n",
    "    'region_South',\n",
    "    'poverty_rate_living',\n",
    "    'poverty_rate_health',\n",
    "    'poverty_rate_education',\n",
    "    'poverty_rate_income',\n",
    "    'poverty_rate_accessibility',\n",
    "    ]]\n",
    "dist_air_gee_reg_train"
   ]
  },
  {
   "cell_type": "code",
   "execution_count": null,
   "id": "23e4bd5d-85fd-49f5-b7f4-a324dac50f4c",
   "metadata": {},
   "outputs": [],
   "source": [
    "dist_air_gee_reg_test = dist_air_gee_test.merge(region_df, on='tumbol_ID', how='left')[['tumbol_ID',\n",
    "    'distance_BFV',\n",
    "    'distance_UBP',\n",
    "    'distance_ROI',\n",
    "    'distance_KKC',\n",
    "    'distance_SNO',\n",
    "    'distance_KOP',\n",
    "    'distance_UTH',\n",
    "    'distance_LOE',\n",
    "    'sentinel-2_MAX_QA60',\n",
    "    'sentinel-2_MAX_B8',\n",
    "    'sentinel-2_MAX_B7',\n",
    "    'sentinel-2_MAX_B8A',\n",
    "    'sentinel-2_MAX_B6',\n",
    "    'sentinel-2_mean_B8',\n",
    "    'sentinel-2_mean_QA60',\n",
    "    'sentinel-2_mean_B7',\n",
    "    'NDBI',\n",
    "    'sentinel-2_mean_B8A',\n",
    "    'sentinel-2_mean_AOT',\n",
    "    'sentinel-2_MAX_B9',\n",
    "    'sentinel-2_MAX_MSK_CLDPRB',\n",
    "    'sentinel-2_mean_B6',\n",
    "    'sentinel-2_MAX_AOT',\n",
    "    'NDVI_max',\n",
    "    'sentinel-2_MAX_B3',\n",
    "    'sentinel-2_MAX_B2',\n",
    "    'sentinel-2_MAX_B4',\n",
    "    'NDVI_sum',\n",
    "    'sentinel-2_MAX_B5',\n",
    "    'sentinel-2_MAX_B1',\n",
    "    'region_BKK',\n",
    "    'region_Central',\n",
    "    'region_West',\n",
    "    'region_East',\n",
    "    'region_North_East',\n",
    "    'region_North',\n",
    "    'region_South'\n",
    "]]\n",
    "dist_air_gee_reg_test"
   ]
  },
  {
   "cell_type": "code",
   "execution_count": null,
   "id": "cb822697-e4a4-4d6f-9c45-adc02fc98156",
   "metadata": {},
   "outputs": [],
   "source": [
    "dist_air_gee_reg_train.to_csv('data/dist_air_gee_reg_train.csv', index=False)\n",
    "dist_air_gee_reg_test.to_csv('data/dist_air_gee_reg_test.csv', index=False)"
   ]
  },
  {
   "cell_type": "code",
   "execution_count": null,
   "id": "1318961f-b3df-4790-b78b-7d94f2ead371",
   "metadata": {},
   "outputs": [],
   "source": []
  }
 ],
 "metadata": {
  "kernelspec": {
   "display_name": "Python 3 (ipykernel)",
   "language": "python",
   "name": "python3"
  },
  "language_info": {
   "codemirror_mode": {
    "name": "ipython",
    "version": 3
   },
   "file_extension": ".py",
   "mimetype": "text/x-python",
   "name": "python",
   "nbconvert_exporter": "python",
   "pygments_lexer": "ipython3",
   "version": "3.10.6"
  }
 },
 "nbformat": 4,
 "nbformat_minor": 5
}

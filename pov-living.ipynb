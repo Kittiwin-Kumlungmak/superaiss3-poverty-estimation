{
 "cells": [
  {
   "cell_type": "code",
   "execution_count": 1,
   "id": "1ed37d52-3356-4504-8efa-07f81a0f88a8",
   "metadata": {},
   "outputs": [],
   "source": [
    "import pandas as pd\n",
    "import numpy as np\n",
    "import matplotlib.pyplot as plt"
   ]
  },
  {
   "cell_type": "code",
   "execution_count": 2,
   "id": "849cb44b-8685-4b0b-af71-ddc398e70b78",
   "metadata": {},
   "outputs": [],
   "source": [
    "def rm_outlier(df):\n",
    "    y_p75 = np.percentile(df[rate], 75)\n",
    "    y_p25 = np.percentile(df[rate], 25)\n",
    "    upper_bound = (y_p75-y_p25)*1.5+y_p75\n",
    "    return df[df[rate] <= upper_bound]"
   ]
  },
  {
   "cell_type": "code",
   "execution_count": 3,
   "id": "aee248d0-8dfa-4daf-9ad7-a579003e67ca",
   "metadata": {},
   "outputs": [],
   "source": [
    "def train_test_split_df(df, test_size=0.2):\n",
    "    test_df = df.sample(frac = test_size)\n",
    "    train_df = df.drop(test_df.index)\n",
    "    return train_df, test_df"
   ]
  },
  {
   "cell_type": "code",
   "execution_count": 4,
   "id": "c4f129f2-abfd-4ec9-81f7-bff0635b6538",
   "metadata": {},
   "outputs": [
    {
     "data": {
      "text/html": [
       "<div>\n",
       "<style scoped>\n",
       "    .dataframe tbody tr th:only-of-type {\n",
       "        vertical-align: middle;\n",
       "    }\n",
       "\n",
       "    .dataframe tbody tr th {\n",
       "        vertical-align: top;\n",
       "    }\n",
       "\n",
       "    .dataframe thead th {\n",
       "        text-align: right;\n",
       "    }\n",
       "</style>\n",
       "<table border=\"1\" class=\"dataframe\">\n",
       "  <thead>\n",
       "    <tr style=\"text-align: right;\">\n",
       "      <th></th>\n",
       "      <th>tumbol_ID</th>\n",
       "      <th>sum_rain</th>\n",
       "      <th>poverty_rate_living</th>\n",
       "    </tr>\n",
       "  </thead>\n",
       "  <tbody>\n",
       "    <tr>\n",
       "      <th>0</th>\n",
       "      <td>110113</td>\n",
       "      <td>2414.99</td>\n",
       "      <td>0.290314</td>\n",
       "    </tr>\n",
       "    <tr>\n",
       "      <th>1</th>\n",
       "      <td>110115</td>\n",
       "      <td>2414.99</td>\n",
       "      <td>0.070353</td>\n",
       "    </tr>\n",
       "    <tr>\n",
       "      <th>2</th>\n",
       "      <td>110117</td>\n",
       "      <td>2414.99</td>\n",
       "      <td>0.019508</td>\n",
       "    </tr>\n",
       "    <tr>\n",
       "      <th>7</th>\n",
       "      <td>110201</td>\n",
       "      <td>2835.25</td>\n",
       "      <td>0.824092</td>\n",
       "    </tr>\n",
       "    <tr>\n",
       "      <th>8</th>\n",
       "      <td>110202</td>\n",
       "      <td>2835.25</td>\n",
       "      <td>0.077022</td>\n",
       "    </tr>\n",
       "    <tr>\n",
       "      <th>...</th>\n",
       "      <td>...</td>\n",
       "      <td>...</td>\n",
       "      <td>...</td>\n",
       "    </tr>\n",
       "    <tr>\n",
       "      <th>4546</th>\n",
       "      <td>961105</td>\n",
       "      <td>2863.12</td>\n",
       "      <td>1.236233</td>\n",
       "    </tr>\n",
       "    <tr>\n",
       "      <th>4547</th>\n",
       "      <td>961201</td>\n",
       "      <td>4181.46</td>\n",
       "      <td>12.716118</td>\n",
       "    </tr>\n",
       "    <tr>\n",
       "      <th>4548</th>\n",
       "      <td>961202</td>\n",
       "      <td>3668.46</td>\n",
       "      <td>0.044823</td>\n",
       "    </tr>\n",
       "    <tr>\n",
       "      <th>4549</th>\n",
       "      <td>961302</td>\n",
       "      <td>2863.12</td>\n",
       "      <td>4.445484</td>\n",
       "    </tr>\n",
       "    <tr>\n",
       "      <th>4550</th>\n",
       "      <td>961303</td>\n",
       "      <td>2926.21</td>\n",
       "      <td>1.224795</td>\n",
       "    </tr>\n",
       "  </tbody>\n",
       "</table>\n",
       "<p>4203 rows × 3 columns</p>\n",
       "</div>"
      ],
      "text/plain": [
       "      tumbol_ID  sum_rain  poverty_rate_living\n",
       "0        110113   2414.99             0.290314\n",
       "1        110115   2414.99             0.070353\n",
       "2        110117   2414.99             0.019508\n",
       "7        110201   2835.25             0.824092\n",
       "8        110202   2835.25             0.077022\n",
       "...         ...       ...                  ...\n",
       "4546     961105   2863.12             1.236233\n",
       "4547     961201   4181.46            12.716118\n",
       "4548     961202   3668.46             0.044823\n",
       "4549     961302   2863.12             4.445484\n",
       "4550     961303   2926.21             1.224795\n",
       "\n",
       "[4203 rows x 3 columns]"
      ]
     },
     "execution_count": 4,
     "metadata": {},
     "output_type": "execute_result"
    }
   ],
   "source": [
    "train_data = pd.read_csv('data/rain_train.csv')#.drop(['tumbol_name','amphur_name','province_name'], axis=1)\n",
    "rate = 'poverty_rate_living'\n",
    "pov_rate = [c for c in train_data.columns if 'poverty_rate' in c and c != rate]\n",
    "train_data = train_data.drop(pov_rate, axis=1).dropna()\n",
    "# train_data['LAT'] = np.cos(train_data['LAT'])\n",
    "# train_data['LONG'] = np.cos(train_data['LONG'])\n",
    "train_data"
   ]
  },
  {
   "cell_type": "code",
   "execution_count": 5,
   "id": "ac8befd4-a10f-4b34-a0f1-04ad40b35606",
   "metadata": {},
   "outputs": [
    {
     "name": "stdout",
     "output_type": "stream",
     "text": [
      "(3362, 3) (841, 3)\n",
      "(2859, 3) (841, 3)\n"
     ]
    }
   ],
   "source": [
    "train_df, test_df = train_test_split_df(train_data)\n",
    "print(train_df.shape, test_df.shape)\n",
    "train_df = rm_outlier(train_df)\n",
    "print(train_df.shape, test_df.shape)"
   ]
  },
  {
   "cell_type": "code",
   "execution_count": 6,
   "id": "c038c554-1e69-4450-a2ae-6739ef22f726",
   "metadata": {
    "tags": []
   },
   "outputs": [
    {
     "name": "stdout",
     "output_type": "stream",
     "text": [
      "(2859, 1) (2859,)\n",
      "(841, 1) (841,)\n"
     ]
    }
   ],
   "source": [
    "X_train = train_df.iloc[:, 1:-1].values\n",
    "y_train = train_df.iloc[:, -1].values\n",
    "print(X_train.shape, y_train.shape)\n",
    "\n",
    "X_test = test_df.iloc[:, 1:-1].values\n",
    "y_test = test_df.iloc[:, -1].values\n",
    "print(X_test.shape, y_test.shape)"
   ]
  },
  {
   "cell_type": "code",
   "execution_count": 7,
   "id": "e040cbd3-596b-4d8a-9764-3abea1e88f8b",
   "metadata": {},
   "outputs": [],
   "source": [
    "# from sklearn.model_selection import train_test_split\n",
    "# X_train, X_test, y_train, y_test = train_test_split(X, y, test_size=0.2, random_state=None)\n",
    "\n",
    "# X_train_df\n",
    "# print(X_train.shape, X_test.shape, y_train.shape, y_test.shape)"
   ]
  },
  {
   "cell_type": "code",
   "execution_count": 8,
   "id": "8bbab2a4-232c-4749-82aa-75e3ff76f4cc",
   "metadata": {},
   "outputs": [],
   "source": [
    "from sklearn.preprocessing import StandardScaler\n",
    "from sklearn.linear_model import HuberRegressor\n",
    "from sklearn.ensemble import AdaBoostClassifier, AdaBoostRegressor, ExtraTreesClassifier, ExtraTreesRegressor\n",
    "# from catboost import CatBoostClassifier, CatBoostRegressor\n",
    "from sklearn.pipeline import Pipeline\n",
    "from sklearn.model_selection import cross_val_score\n",
    "from sklego.meta import ZeroInflatedRegressor\n",
    "\n",
    "X_scaler = StandardScaler()\n",
    "y_scaler = StandardScaler()\n",
    "\n",
    "X_train = X_scaler.fit_transform(X_train)\n",
    "X_test = X_scaler.transform(X_test)\n",
    "\n",
    "y_train = y_scaler.fit_transform(y_train.reshape(-1, 1)).reshape(-1)"
   ]
  },
  {
   "cell_type": "code",
   "execution_count": 9,
   "id": "386cd1f6-ba11-44a5-875e-d6d26c95ee44",
   "metadata": {},
   "outputs": [],
   "source": [
    "# from sklearn.decomposition import PCA\n",
    "\n",
    "# pca = PCA(n_components=100)\n",
    "# X_train = pca.fit_transform(X_train)\n",
    "# X_test = pca.transform(X_test)"
   ]
  },
  {
   "cell_type": "code",
   "execution_count": 10,
   "id": "bff66f7e-0f95-457c-bee6-92d833c18397",
   "metadata": {},
   "outputs": [
    {
     "data": {
      "text/html": [
       "<style>#sk-container-id-1 {color: black;background-color: white;}#sk-container-id-1 pre{padding: 0;}#sk-container-id-1 div.sk-toggleable {background-color: white;}#sk-container-id-1 label.sk-toggleable__label {cursor: pointer;display: block;width: 100%;margin-bottom: 0;padding: 0.3em;box-sizing: border-box;text-align: center;}#sk-container-id-1 label.sk-toggleable__label-arrow:before {content: \"▸\";float: left;margin-right: 0.25em;color: #696969;}#sk-container-id-1 label.sk-toggleable__label-arrow:hover:before {color: black;}#sk-container-id-1 div.sk-estimator:hover label.sk-toggleable__label-arrow:before {color: black;}#sk-container-id-1 div.sk-toggleable__content {max-height: 0;max-width: 0;overflow: hidden;text-align: left;background-color: #f0f8ff;}#sk-container-id-1 div.sk-toggleable__content pre {margin: 0.2em;color: black;border-radius: 0.25em;background-color: #f0f8ff;}#sk-container-id-1 input.sk-toggleable__control:checked~div.sk-toggleable__content {max-height: 200px;max-width: 100%;overflow: auto;}#sk-container-id-1 input.sk-toggleable__control:checked~label.sk-toggleable__label-arrow:before {content: \"▾\";}#sk-container-id-1 div.sk-estimator input.sk-toggleable__control:checked~label.sk-toggleable__label {background-color: #d4ebff;}#sk-container-id-1 div.sk-label input.sk-toggleable__control:checked~label.sk-toggleable__label {background-color: #d4ebff;}#sk-container-id-1 input.sk-hidden--visually {border: 0;clip: rect(1px 1px 1px 1px);clip: rect(1px, 1px, 1px, 1px);height: 1px;margin: -1px;overflow: hidden;padding: 0;position: absolute;width: 1px;}#sk-container-id-1 div.sk-estimator {font-family: monospace;background-color: #f0f8ff;border: 1px dotted black;border-radius: 0.25em;box-sizing: border-box;margin-bottom: 0.5em;}#sk-container-id-1 div.sk-estimator:hover {background-color: #d4ebff;}#sk-container-id-1 div.sk-parallel-item::after {content: \"\";width: 100%;border-bottom: 1px solid gray;flex-grow: 1;}#sk-container-id-1 div.sk-label:hover label.sk-toggleable__label {background-color: #d4ebff;}#sk-container-id-1 div.sk-serial::before {content: \"\";position: absolute;border-left: 1px solid gray;box-sizing: border-box;top: 0;bottom: 0;left: 50%;z-index: 0;}#sk-container-id-1 div.sk-serial {display: flex;flex-direction: column;align-items: center;background-color: white;padding-right: 0.2em;padding-left: 0.2em;position: relative;}#sk-container-id-1 div.sk-item {position: relative;z-index: 1;}#sk-container-id-1 div.sk-parallel {display: flex;align-items: stretch;justify-content: center;background-color: white;position: relative;}#sk-container-id-1 div.sk-item::before, #sk-container-id-1 div.sk-parallel-item::before {content: \"\";position: absolute;border-left: 1px solid gray;box-sizing: border-box;top: 0;bottom: 0;left: 50%;z-index: -1;}#sk-container-id-1 div.sk-parallel-item {display: flex;flex-direction: column;z-index: 1;position: relative;background-color: white;}#sk-container-id-1 div.sk-parallel-item:first-child::after {align-self: flex-end;width: 50%;}#sk-container-id-1 div.sk-parallel-item:last-child::after {align-self: flex-start;width: 50%;}#sk-container-id-1 div.sk-parallel-item:only-child::after {width: 0;}#sk-container-id-1 div.sk-dashed-wrapped {border: 1px dashed gray;margin: 0 0.4em 0.5em 0.4em;box-sizing: border-box;padding-bottom: 0.4em;background-color: white;}#sk-container-id-1 div.sk-label label {font-family: monospace;font-weight: bold;display: inline-block;line-height: 1.2em;}#sk-container-id-1 div.sk-label-container {text-align: center;}#sk-container-id-1 div.sk-container {/* jupyter's `normalize.less` sets `[hidden] { display: none; }` but bootstrap.min.css set `[hidden] { display: none !important; }` so we also need the `!important` here to be able to override the default hidden behavior on the sphinx rendered scikit-learn.org. See: https://github.com/scikit-learn/scikit-learn/issues/21755 */display: inline-block !important;position: relative;}#sk-container-id-1 div.sk-text-repr-fallback {display: none;}</style><div id=\"sk-container-id-1\" class=\"sk-top-container\"><div class=\"sk-text-repr-fallback\"><pre>ZeroInflatedRegressor(classifier=ExtraTreesClassifier(),\n",
       "                      regressor=HuberRegressor(max_iter=1000))</pre><b>In a Jupyter environment, please rerun this cell to show the HTML representation or trust the notebook. <br />On GitHub, the HTML representation is unable to render, please try loading this page with nbviewer.org.</b></div><div class=\"sk-container\" hidden><div class=\"sk-item sk-dashed-wrapped\"><div class=\"sk-label-container\"><div class=\"sk-label sk-toggleable\"><input class=\"sk-toggleable__control sk-hidden--visually\" id=\"sk-estimator-id-1\" type=\"checkbox\" ><label for=\"sk-estimator-id-1\" class=\"sk-toggleable__label sk-toggleable__label-arrow\">ZeroInflatedRegressor</label><div class=\"sk-toggleable__content\"><pre>ZeroInflatedRegressor(classifier=ExtraTreesClassifier(),\n",
       "                      regressor=HuberRegressor(max_iter=1000))</pre></div></div></div><div class=\"sk-parallel\"><div class=\"sk-parallel-item\"><div class=\"sk-item\"><div class=\"sk-label-container\"><div class=\"sk-label sk-toggleable\"><input class=\"sk-toggleable__control sk-hidden--visually\" id=\"sk-estimator-id-2\" type=\"checkbox\" ><label for=\"sk-estimator-id-2\" class=\"sk-toggleable__label sk-toggleable__label-arrow\">classifier: ExtraTreesClassifier</label><div class=\"sk-toggleable__content\"><pre>ExtraTreesClassifier()</pre></div></div></div><div class=\"sk-serial\"><div class=\"sk-item\"><div class=\"sk-estimator sk-toggleable\"><input class=\"sk-toggleable__control sk-hidden--visually\" id=\"sk-estimator-id-3\" type=\"checkbox\" ><label for=\"sk-estimator-id-3\" class=\"sk-toggleable__label sk-toggleable__label-arrow\">ExtraTreesClassifier</label><div class=\"sk-toggleable__content\"><pre>ExtraTreesClassifier()</pre></div></div></div></div></div></div><div class=\"sk-parallel-item\"><div class=\"sk-item\"><div class=\"sk-label-container\"><div class=\"sk-label sk-toggleable\"><input class=\"sk-toggleable__control sk-hidden--visually\" id=\"sk-estimator-id-4\" type=\"checkbox\" ><label for=\"sk-estimator-id-4\" class=\"sk-toggleable__label sk-toggleable__label-arrow\">regressor: HuberRegressor</label><div class=\"sk-toggleable__content\"><pre>HuberRegressor(max_iter=1000)</pre></div></div></div><div class=\"sk-serial\"><div class=\"sk-item\"><div class=\"sk-estimator sk-toggleable\"><input class=\"sk-toggleable__control sk-hidden--visually\" id=\"sk-estimator-id-5\" type=\"checkbox\" ><label for=\"sk-estimator-id-5\" class=\"sk-toggleable__label sk-toggleable__label-arrow\">HuberRegressor</label><div class=\"sk-toggleable__content\"><pre>HuberRegressor(max_iter=1000)</pre></div></div></div></div></div></div></div></div></div></div>"
      ],
      "text/plain": [
       "ZeroInflatedRegressor(classifier=ExtraTreesClassifier(),\n",
       "                      regressor=HuberRegressor(max_iter=1000))"
      ]
     },
     "execution_count": 10,
     "metadata": {},
     "output_type": "execute_result"
    }
   ],
   "source": [
    "zir = ZeroInflatedRegressor(\n",
    "    classifier=ExtraTreesClassifier(),\n",
    "    regressor=HuberRegressor(max_iter=1000)\n",
    ")\n",
    "\n",
    "zir.fit(X_train, y_train)"
   ]
  },
  {
   "cell_type": "code",
   "execution_count": 11,
   "id": "a9d8e8a0-27cf-4f54-acf4-fb6c804a35b6",
   "metadata": {},
   "outputs": [],
   "source": [
    "y_pred = zir.predict(X_test)\n",
    "y_pred = y_scaler.inverse_transform(y_pred.reshape(-1, 1))"
   ]
  },
  {
   "cell_type": "code",
   "execution_count": 12,
   "id": "e9c1ccbb-9d36-4081-b24f-aa9bbaac8ea5",
   "metadata": {},
   "outputs": [
    {
     "data": {
      "text/plain": [
       "2.166838164660649"
      ]
     },
     "execution_count": 12,
     "metadata": {},
     "output_type": "execute_result"
    }
   ],
   "source": [
    "from sklearn.metrics import mean_absolute_error\n",
    "\n",
    "mae = mean_absolute_error(y_test, y_pred)\n",
    "mae"
   ]
  },
  {
   "cell_type": "code",
   "execution_count": 13,
   "id": "377178cb-617e-4692-a519-c64cb6b6e24a",
   "metadata": {},
   "outputs": [
    {
     "data": {
      "text/plain": [
       "2.2122347422211655"
      ]
     },
     "execution_count": 13,
     "metadata": {},
     "output_type": "execute_result"
    }
   ],
   "source": [
    "zero = mean_absolute_error(y_test, [0]*len(y_test))\n",
    "zero"
   ]
  },
  {
   "cell_type": "code",
   "execution_count": 14,
   "id": "4c6a041e-1442-48f6-9f89-21d3600f5fe7",
   "metadata": {},
   "outputs": [
    {
     "data": {
      "text/plain": [
       "0.020520687381908067"
      ]
     },
     "execution_count": 14,
     "metadata": {},
     "output_type": "execute_result"
    }
   ],
   "source": [
    "(zero-mae)/zero"
   ]
  },
  {
   "cell_type": "code",
   "execution_count": null,
   "id": "2ab1d468-b414-4d15-a181-1b4f8ff99ab4",
   "metadata": {},
   "outputs": [],
   "source": [
    "test_data = pd.read_csv('data/dist_test.csv')#.drop(['tumbol_name','amphur_name','province_name'], axis=1)\n",
    "test_data"
   ]
  },
  {
   "cell_type": "code",
   "execution_count": null,
   "id": "18dc318f-fbb8-452a-ad16-33dff7c7e22f",
   "metadata": {},
   "outputs": [],
   "source": [
    "test_rm_nan = test_data.dropna()\n",
    "test_rm_nan"
   ]
  },
  {
   "cell_type": "code",
   "execution_count": null,
   "id": "907c7320-ed04-4ee8-8608-69a0ff4ab26c",
   "metadata": {},
   "outputs": [],
   "source": [
    "X_submit = test_rm_nan.iloc[:, 1:].values\n",
    "X_submit = X_scaler.transform(X_submit)\n",
    "# X_submit = pca.transform(X_submit)"
   ]
  },
  {
   "cell_type": "code",
   "execution_count": null,
   "id": "140f33a5-c65c-4c64-aad9-346ce39e2580",
   "metadata": {},
   "outputs": [],
   "source": [
    "y_submit = zir.predict(X_submit)\n",
    "y_submit = y_scaler.inverse_transform(y_submit.reshape(-1, 1))"
   ]
  },
  {
   "cell_type": "code",
   "execution_count": null,
   "id": "37079182-f762-4bd9-a2e7-3a1829638bce",
   "metadata": {},
   "outputs": [],
   "source": [
    "test_rm_nan[rate] = y_submit\n",
    "submit_df = test_data.merge(test_rm_nan, on= 'tumbol_ID', how= 'left')[['tumbol_ID', 'poverty_rate_living']].fillna(0)\n",
    "submit_df"
   ]
  },
  {
   "cell_type": "code",
   "execution_count": null,
   "id": "ac2141c2-cb7d-4a85-9188-682447a3ff78",
   "metadata": {},
   "outputs": [],
   "source": [
    "submit_df.to_csv('submit_living_3.csv', index=False)"
   ]
  },
  {
   "cell_type": "code",
   "execution_count": null,
   "id": "3c84f56f-e4e6-4e80-83d1-0fd280260943",
   "metadata": {},
   "outputs": [],
   "source": []
  }
 ],
 "metadata": {
  "kernelspec": {
   "display_name": "Python 3 (ipykernel)",
   "language": "python",
   "name": "python3"
  },
  "language_info": {
   "codemirror_mode": {
    "name": "ipython",
    "version": 3
   },
   "file_extension": ".py",
   "mimetype": "text/x-python",
   "name": "python",
   "nbconvert_exporter": "python",
   "pygments_lexer": "ipython3",
   "version": "3.10.6"
  }
 },
 "nbformat": 4,
 "nbformat_minor": 5
}
